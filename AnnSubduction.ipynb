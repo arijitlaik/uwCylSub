{
 "cells": [
  {
   "cell_type": "code",
   "execution_count": 1,
   "metadata": {},
   "outputs": [],
   "source": [
    "import os\n",
    "import sys\n",
    "\n",
    "import underworld as uw\n",
    "from underworld import function as fn\n",
    "from underworld.scaling import units as u\n",
    "from underworld.scaling import dimensionalise as dm, non_dimensionalise as nd\n",
    "import glucifer\n",
    "import numpy as np\n",
    "import collections\n",
    "import xml.etree.ElementTree as elementTree"
   ]
  },
  {
   "cell_type": "code",
   "execution_count": 2,
   "metadata": {},
   "outputs": [],
   "source": [
    "# turnables\n",
    "wholeMantleFlag = False\n",
    "airLayer = True\n",
    "gldbFlag = False\n",
    "# restartFlag = True\n",
    "outputDirName = \"AnnSubBenchmark_SA_Lo_dot001_T3\"\n",
    "# outputDirName = \"T_SA_Lo_dot001\""
   ]
  },
  {
   "cell_type": "code",
   "execution_count": 4,
   "metadata": {},
   "outputs": [],
   "source": [
    "outputDir = os.path.join(os.path.abspath(\".\"), outputDirName + \"/\")\n",
    "if uw.mpi.rank == 0:\n",
    "    if not os.path.exists(outputDir):\n",
    "        os.makedirs(outputDir)\n",
    "uw.mpi.barrier()\n",
    "checkpointedSteps = np.sort(\n",
    "    np.unique(\n",
    "        np.array(\n",
    "            [\n",
    "                int(os.path.splitext(filename)[0].split(\"-\")[-1])\n",
    "                for filename in os.listdir(outputDir)\n",
    "                if \"-\" in filename\n",
    "            ]\n",
    "        )\n",
    "    )\n",
    ")\n",
    "\n",
    "restartFlag = True if checkpointedSteps.shape[0] > 0 else False\n",
    "step = checkpointedSteps[-1] if restartFlag else 0\n",
    "\n",
    "if step > 0:\n",
    "    dmTime = (\n",
    "        elementTree.parse(outputDir + \"velocity\" + \"-\" + str(step).zfill(5) + \".xdmf\")\n",
    "        .getiterator(\"Time\")[0]\n",
    "        .get(\"Value\")\n",
    "    )\n",
    "else:\n",
    "    dmTime = 0"
   ]
  },
  {
   "cell_type": "code",
   "execution_count": 5,
   "metadata": {},
   "outputs": [],
   "source": [
    "\n",
    "# Scaling and Units\n",
    "#\n",
    "# Dimentional Parameters\n",
    "airHeight = 50.0 * u.kilometer if airLayer else 0.0 * u.kilometer\n",
    "modelHeight = 2891 * u.kilometer if wholeMantleFlag else 1000.0 * u.kilometer\n",
    "earthRadius = 6371 * u.kilometer\n",
    "modelCartAspect = 2 if wholeMantleFlag else 4\n",
    "ThetaRAD = np.rad2deg((modelHeight * modelCartAspect) / earthRadius)\n",
    "\n",
    "# plateHeight = 120. * u.kilometer\n",
    "refDensity = 3200.0 * u.kilogram / u.meter ** 3\n",
    "deltaRhoMax = 80.0 * u.kilogram / u.meter ** 3\n",
    "gravity = 9.8 * u.metre / u.second ** 2\n",
    "# 1.57e20 * u.pascal * u.second 5.e20 * u.pascal * u.second\n",
    "refViscosity = 5.0e20 * u.pascal * u.second\n",
    "bodyForce = refDensity * gravity\n",
    "\n",
    "# scaling coefficients\n",
    "K_eta = refViscosity\n",
    "KL = modelHeight\n",
    "K_tau = bodyForce * modelHeight\n",
    "K_v = K_tau * modelHeight / K_eta\n",
    "# Kt = KL/K_v\n",
    "Kt = K_eta / K_tau\n",
    "KM = K_tau * modelHeight * Kt ** 2\n",
    "\n",
    "scaling_coefficients = uw.scaling.get_coefficients()\n",
    "\n",
    "scaling_coefficients[\"[length]\"] = KL.to_base_units()\n",
    "# scaling_coefficients[\"[temperature]\"] = KT.to_base_units()\n",
    "scaling_coefficients[\"[time]\"] = Kt.to_base_units()\n",
    "scaling_coefficients[\"[mass]\"] = KM.to_base_units()"
   ]
  },
  {
   "cell_type": "code",
   "execution_count": 7,
   "metadata": {},
   "outputs": [],
   "source": [
    "dmTime = float(dmTime)\n",
    "step = int(step)\n",
    "time = nd(dmTime * 1.0 * u.megayear)\n",
    "maxSteps = 2000\n",
    "\n",
    "try:\n",
    "    tflag = os.environ[\"UW_ENABLE_TIMING\"]\n",
    "except KeyError:\n",
    "    tflag = False\n",
    "else:\n",
    "    if tflag == \"1\":\n",
    "        tflag = True\n",
    "    else:\n",
    "        tflag = False\n",
    "uw.mpi.barrier()\n",
    "if tflag:\n",
    "    uw.timing.start()"
   ]
  },
  {
   "cell_type": "code",
   "execution_count": 8,
   "metadata": {},
   "outputs": [],
   "source": [
    "mesh = uw.mesh.FeMesh_Annulus(\n",
    "    elementRes=(192, 384),\n",
    "    radialLengths=(nd(earthRadius - modelHeight + airHeight), nd(earthRadius)),\n",
    "    angularExtent=((180 - ThetaRAD.magnitude) / 2, 90 + ThetaRAD.magnitude / 2),\n",
    "    periodic=[False, False],\n",
    ")\n",
    "\n",
    "\n",
    "velocityField = mesh.add_variable(nodeDofCount=mesh.dim)\n",
    "pressureField = mesh.subMesh.add_variable(nodeDofCount=1)\n",
    "viscosityField = mesh.add_variable(1)\n"
   ]
  },
  {
   "cell_type": "code",
   "execution_count": 9,
   "metadata": {},
   "outputs": [],
   "source": [
    "swarm = uw.swarm.Swarm(mesh, particleEscape=True)\n",
    "materialVariable = swarm.add_variable(count=1, dataType=\"int\")\n",
    "layout = uw.swarm.layouts.PerCellSpaceFillerLayout(swarm, particlesPerCell=20)\n",
    "if restartFlag is False:\n",
    "    swarm.populate_using_layout(layout)\n",
    "advector = uw.systems.SwarmAdvector(velocityField=velocityField, swarm=swarm)\n",
    "swarm_popcontrol = uw.swarm.PopulationControl(\n",
    "    swarm,\n",
    "    deleteThreshold=0.0025,\n",
    "    splitThreshold=0.10,\n",
    "    maxDeletions=0,\n",
    "    maxSplits=100,\n",
    "    aggressive=True,\n",
    "    aggressiveThreshold=0.95,\n",
    "    particlesPerCell=20,\n",
    ")\n"
   ]
  },
  {
   "cell_type": "code",
   "execution_count": 10,
   "metadata": {},
   "outputs": [],
   "source": [
    "\n",
    "def checkpoint(\n",
    "    mesh,\n",
    "    fieldDict,\n",
    "    swarm,\n",
    "    swarmDict,\n",
    "    index,\n",
    "    modeltime=None,\n",
    "    meshName=\"mesh\",\n",
    "    swarmName=\"swarm\",\n",
    "    prefix=\"./\",\n",
    "    enable_xdmf=True,\n",
    "    load=False,\n",
    "):\n",
    "    # Check the prefix is valid\n",
    "    if prefix is not None:\n",
    "        if not prefix.endswith(\"/\"):\n",
    "            prefix += \"/\"  # add a backslash\n",
    "        if not os.path.exists(prefix) and uw.mpi.rank == 0:\n",
    "            print(\"Creating directory: \", prefix)\n",
    "            os.makedirs(prefix)\n",
    "\n",
    "    if not isinstance(index, int):\n",
    "        raise TypeError(\"'index' is not of type int\")\n",
    "    if modeltime is not None:\n",
    "        time = modeltime\n",
    "    else:\n",
    "        time = index\n",
    "\n",
    "    ii = str(index).zfill(5)\n",
    "\n",
    "    if mesh is not None:\n",
    "\n",
    "        # Error check the mesh and fields\n",
    "        if not isinstance(mesh, uw.mesh.FeMesh):\n",
    "            raise TypeError(\"'mesh' is not of type uw.mesh.FeMesh\")\n",
    "        if fieldDict is not None:\n",
    "            if not isinstance(fieldDict, dict):\n",
    "                raise TypeError(\"'fieldDict' is not of type dict\")\n",
    "            for key, value in fieldDict.items():\n",
    "                if not isinstance(value, uw.mesh.MeshVariable):\n",
    "                    raise TypeError(\n",
    "                        \"'fieldDict' must contain uw.mesh.MeshVariable elements\"\n",
    "                    )\n",
    "\n",
    "        # see if we have already saved the mesh. It only needs to be saved once\n",
    "        if not hasattr(checkpoint, \"mH\"):\n",
    "            if load:\n",
    "                if uw.mpi.rank == 0:\n",
    "                    print(\"Loading Mesh.....\")\n",
    "                    sys.stdout.flush()\n",
    "                mesh.load(prefix + meshName + \".h5\")\n",
    "            if uw.mpi.rank == 0:\n",
    "                print(\"Saving Mesh.....\")\n",
    "                sys.stdout.flush()\n",
    "            checkpoint.mH = mesh.save(prefix + meshName + \".h5\")\n",
    "        mh = checkpoint.mH\n",
    "\n",
    "        for key, value in fieldDict.items():\n",
    "            filename = prefix + key + \"-\" + ii\n",
    "            if load:\n",
    "                if uw.mpi.rank == 0:\n",
    "                    print(\"Loading MeshVariable(s).....\")\n",
    "                if uw.mpi.rank == 0:\n",
    "                    print(\"Loading '{0}.h5' .....\".format(filename))\n",
    "                value.load(filename + \".h5\")\n",
    "            else:\n",
    "                handle = value.save(filename + \".h5\")\n",
    "                if enable_xdmf:\n",
    "                    value.xdmf(filename, handle, key, mh, meshName, modeltime=time)\n",
    "\n",
    "    # is there a swarm\n",
    "    if swarm is not None:\n",
    "\n",
    "        # Error check the swarms\n",
    "        if not isinstance(swarm, uw.swarm.Swarm):\n",
    "            raise TypeError(\"'swarm' is not of type uw.swarm.Swarm\")\n",
    "        if swarmDict is not None:\n",
    "            if not isinstance(swarmDict, dict):\n",
    "                raise TypeError(\"'swarmDict' is not of type dict\")\n",
    "            for key, value in swarmDict.items():\n",
    "                if not isinstance(value, uw.swarm.SwarmVariable):\n",
    "                    raise TypeError(\n",
    "                        \"'SwarmDict' must contain uw.swarm.SwarmVariable elements\"\n",
    "                    )\n",
    "        if load:\n",
    "            if uw.mpi.rank == 0:\n",
    "                print(\"Loading Swarm.....\")\n",
    "                sys.stdout.flush()\n",
    "            swarm.load(prefix + swarmName + \"-\" + ii + \".h5\")\n",
    "        else:\n",
    "            if uw.mpi.rank == 0:\n",
    "                print(\"Saving Swarm.....\")\n",
    "                sys.stdout.flush()\n",
    "            sH = swarm.save(prefix + swarmName + \"-\" + ii + \".h5\")\n",
    "        for key, value in swarmDict.items():\n",
    "            filename = prefix + key + \"-\" + ii\n",
    "            if load:\n",
    "                if uw.mpi.rank == 0:\n",
    "                    print(\"Loading SwarmVariable(s).....\")\n",
    "                    if uw.mpi.rank == 0:\n",
    "                        print(\"Loading '{0}.h5' .....\".format(filename))\n",
    "                value.load(filename + \".h5\")\n",
    "            else:\n",
    "                handle = value.save(filename + \".h5\")\n",
    "                if enable_xdmf:\n",
    "                    value.xdmf(filename, handle, key, sH, swarmName, modeltime=time)\n",
    "    if uw.mpi.rank == 0:\n",
    "        print(\"Done.....\")\n",
    "        sys.stdout.flush()"
   ]
  },
  {
   "cell_type": "code",
   "execution_count": 11,
   "metadata": {},
   "outputs": [],
   "source": [
    "fieldDict = collections.OrderedDict()  # important to avoid racing conditions\n",
    "fieldDict[\"velocity\"] = velocityField\n",
    "fieldDict[\"pressure\"] = pressureField\n",
    "fieldDict[\"meshViscosity\"] = viscosityField\n",
    "\n",
    "swarmDict = collections.OrderedDict()\n",
    "swarmDict[\"materials\"] = materialVariable\n",
    "# traceDict = {\"tcoords\": tincord, \"tvel\": tracerVelocity}\n",
    "refieldDict = collections.OrderedDict()  # important to avoid racing conditions\n",
    "refieldDict[\"velocity\"] = velocityField\n",
    "refieldDict[\"pressure\"] = pressureField\n"
   ]
  },
  {
   "cell_type": "code",
   "execution_count": 12,
   "metadata": {},
   "outputs": [],
   "source": [
    "if restartFlag is True:\n",
    "    checkpoint(\n",
    "        mesh,\n",
    "        refieldDict,\n",
    "        swarm,\n",
    "        swarmDict,\n",
    "        index=step,\n",
    "        modeltime=dm(time, 1.0 * u.megayear).magnitude,\n",
    "        prefix=outputDir,\n",
    "        load=True,\n",
    "    )\n",
    "store = glucifer.Store(outputDir + \"/gfxstore\") if gldbFlag is True else None\n",
    "if store is not None:\n",
    "    store.step = 0"
   ]
  },
  {
   "cell_type": "code",
   "execution_count": 13,
   "metadata": {},
   "outputs": [],
   "source": [
    "fig = glucifer.Figure(store=None, figsize=(1200, 450))\n",
    "# fig.append( glucifer.objects.Mesh( mesh ,nodeNumbers=True))\n",
    "fig.append(glucifer.objects.Mesh(mesh))\n",
    "# fig.append( glucifer.objects.Points( swarm,pointsize=4))\n",
    "fig.save(outputDir + \"/mesh\")\n",
    "\n",
    "\n",
    "radialFn = fn.math.sqrt(fn.math.dot(fn.coord(), fn.coord()))\n",
    "thetaFn = fn.math.atan2(fn.coord()[1], fn.coord()[0])"
   ]
  },
  {
   "cell_type": "code",
   "execution_count": 14,
   "metadata": {},
   "outputs": [],
   "source": [
    "class LayerCircle(fn.Function):\n",
    "    \"\"\"Layer Circle\"\"\"\n",
    "\n",
    "    def __init__(self, c1, c2, r1, r2):\n",
    "        \"\"\"Create an Layer with two Circles\n",
    "        Parameters\n",
    "        ----------\n",
    "        c1 : center of Internal Circle\n",
    "        c2 : center of External Circle\n",
    "        r1 : Internal radius\n",
    "        r2 : External radius\n",
    "        Returns\n",
    "        -------\n",
    "        An Underworld function(fn) object\n",
    "        \"\"\"\n",
    "        self.r1 = r1\n",
    "        self.r2 = r2\n",
    "\n",
    "        coord1 = fn.input() - c1\n",
    "        coord2 = fn.input() - c2\n",
    "        self._fn = (fn.math.dot(coord2, coord2) < r2 ** 2) & (\n",
    "            fn.math.dot(coord1, coord1) > r1 ** 2\n",
    "        )\n",
    "        super(LayerCircle, self).__init__(argument_fns=None)\n",
    "        self._fncself = self._fn._fncself"
   ]
  },
  {
   "cell_type": "code",
   "execution_count": 17,
   "metadata": {},
   "outputs": [],
   "source": [
    "# SH*T GETS REAL HERE\n",
    "\n",
    "if restartFlag is False:\n",
    "\n",
    "    air = mesh.unit_heightFn.evaluate(swarm.data) > nd(modelHeight - airHeight)\n",
    "    lowermantle = mesh.unit_heightFn.evaluate(swarm.data) < nd(\n",
    "        modelHeight - airHeight - 660.0 * u.kilometer\n",
    "    )\n",
    "    slab = (\n",
    "        (mesh.unit_heightFn.evaluate(swarm.data) < nd(modelHeight - airHeight))\n",
    "        & (\n",
    "            mesh.unit_heightFn.evaluate(swarm.data)\n",
    "            > nd(modelHeight - airHeight - 100.0 * u.kilometer)\n",
    "        )\n",
    "        & (mesh.thetaFn.evaluate(swarm.data) <= np.pi / 2)\n",
    "    )\n",
    "    rp = nd(earthRadius - airHeight)\n",
    "    dip = 29\n",
    "    theta = 0\n",
    "    rE = nd(rp) / np.cos(np.deg2rad(dip))\n",
    "    cE = (\n",
    "        rp * np.tan(np.deg2rad(dip)) * -np.sin(np.deg2rad(theta - 90)),\n",
    "        rp * np.tan(np.deg2rad(dip)) * np.sin(np.deg2rad(theta)),\n",
    "    )\n",
    "    rp = nd(earthRadius - 100.0 * u.kilometer - airHeight)\n",
    "    dip = 29\n",
    "    theta = 0\n",
    "    rI = nd(rp) / np.cos(np.deg2rad(dip))\n",
    "    cI = (\n",
    "        rp * np.tan(np.deg2rad(dip)) * -np.sin(np.deg2rad(theta - 90)),\n",
    "        rp * np.tan(np.deg2rad(dip)) * np.sin(np.deg2rad(theta)),\n",
    "    )\n",
    "    perturb = (LayerCircle(cI, cE, rI, rE).evaluate(swarm)) & (\n",
    "        mesh.thetaFn.evaluate(swarm) < np.deg2rad(92.1)\n",
    "    )\n",
    "    materialVariable.data[:] = 1\n",
    "    materialVariable.data[lowermantle] = 2\n",
    "    materialVariable.data[slab | perturb] = 3\n",
    "    materialVariable.data[air] = 0  # best at last\n",
    "# SH*T GETS OKAY AGAIN"
   ]
  },
  {
   "cell_type": "code",
   "execution_count": 18,
   "metadata": {},
   "outputs": [],
   "source": [
    "figP = glucifer.Figure(store=store, figsize=(1200, 450))\n",
    "# fig.append( glucifer.objects.Mesh( mesh))\n",
    "figP.append(\n",
    "    glucifer.objects.Points(\n",
    "        swarm,\n",
    "        materialVariable,\n",
    "        colours=\"#00CED1 #F0E68C #FFA500 #2F4F4F\",\n",
    "        pointsize=2,\n",
    "        discrete=True,\n",
    "    )\n",
    ")\n",
    "if restartFlag is False:\n",
    "    figP.save(outputDir + \"/Par\")"
   ]
  },
  {
   "cell_type": "code",
   "execution_count": 19,
   "metadata": {},
   "outputs": [
    {
     "data": {
      "text/html": [
       "<img src='data:image/png;base64,iVBORw0KGgoAAAANSUhEUgAABLAAAAHCCAIAAABwkaf1AAAgAElEQVR4nOzdaZBc13Un+HO3t+RWWSuqCvtKAMRKElxFChQlSpQtyna39y26bbcj7BiHp6Nn2qNpu8Md0W53O8bjdoTtbk+7Lct2yLYsz9jaLckiRXETF4AgiH0toFB77vm2u5z5kAUQlEiRlABUVuX5SQFmJQqZryoz33v/d889lyEiEEIIIYQQQgjpPXypN4AQQgghhBBCyNKgQEgIIYQQQgghPYoCISGEEEIIIYT0KAqEhBBCCCGEENKjKBASQgghhBBCSI+iQEgIIYQQQgghPYoCISGEEEIIIYT0KAqEhBBCCCGEENKjKBASQgghhBBCSI+iQEgIIYQQQgghPYoCISGEEEIIIYT0KAqEhBBCCCGEENKjKBASQgghhBBCSI+iQEgIIYQQQgghPYoCISGEEEIIIYT0KAqEhBBCCCGEENKjKBASQgghhBBCSI+iQEgIIYQQQgghPYoCISGEEEIIIYT0KAqEhBBCCCGEENKjKBASQgghhBBCSI+iQEgIIYQQQgghPYoCISGEEEIIIYT0KAqEhBBCCCGEENKjKBASQgghhBBCSI+iQEgIIYQQQgghPYoCISGEEEIIIYT0KAqEhBBCCCGEENKjKBASQgghhBBCSI+iQEgIIYQQQgghPYoCISGEEEIIIYT0KAqEhBBCCCGEENKjKBASQgghhBBCSI+iQEgIIYQQQgghPYoCISGEEEIIIYT0KAqEhBBCCCGEENKjKBASQgghhBBCSI+iQEgIIYQQQgghPYoCISGEEEIIIYT0KAqEhBBCCCGEENKjKBASQgghhBBCSI+iQEgIIYQQQgghPYoCISGEEEIIIYT0KAqEhBBCCCGEENKjKBASQgghhBBCSI+iQEgIIYQQQgghPYoCISGEEEIIIYT0KAqEhBBCCCGEENKj5FJvACGEkB5lEBlA5/8xIgOoGjsghUFI0SnGEocL1gwIMW9MngsHOCDl8SQBgCIXfYI/347WeupSpveEwbEkNYicsbVKpYglwV9sR7vCcMEYydisMWNK+ox7jJ1O0xxn09puDbynW+1hKbf4flmIWWPGlDocxwNC5DhnAPPGrFLKIrad2+R7E5leo1RB8LqxKaIFjBxu9b2TSbrW8wAgds4B7Aj8Y0myPQimtF6jVNO5IucVa9cqNa1Nn+AJYpHzDNHnvHMY1gAeY0v6ahBCCOlRtyIQHj58+Pd+7/c2bNhwC56LEELIjZUheox1oo5GjJ1DAIsQcjZrzKtx0i9EWYpDUbLOU8NSNKy7pLVDvKJNWfAUUSMoxiSDhnUhZ6lDDXjt8Rlc90VP4gAOAK5mYwfAARCAA0jGQs4DxmrWIeA6z2tZN6bkpUyPKjks5W2BfypNt3geABuQInau6dyolHXrBqWIHYacciYhhCxLFy5c+NVf/dV9+/bd7CdiiDf9QPzEE08AwMGDB2/2ExFCCLme6wzBMVY3VjLWcq7p7BqlLmk9IuWcMV9vtseUVIy9liQ169rOWoTbA//5KEbAK9ocT1KPsREpTqSpQzCICWInYTAAA5Bd/bJzLJEAtucD3g33VpmZAwgGGiHPmAXwGOMMWtat9bwFYzb7Xt3aASEFY6uVrFs7rtS4UiliwFiBcwAQDB4sFC5kWb8Q/UJs8r3YYZ7zCN2YUhyAA3AauiSEkKVwyzIUlYwSQsiyYREZwJwx/ULMGnMx01Vrd4fBmTRNHR6OY87YnNb9Qk4bcy5NI4cpogM8n2UKWNO5FN2wlDPaDEjZtDZ+Z9cET6Tf6W+vfwjzPf185M291YvkABwCALQRASC5+mqezzIAOBQnAHAO9Hd+cAYzCNDJfJ1zAskYAvQLAQA5zu/N5/qFOJokg0Js9LyAs6bDbb73YCEfOWxaO6JkjvOA8RxnHuMasV8KRGSUJAkhZDmgQEgIIUsJEeetzXOeOicZO5mkDedWSXkyTc+naY7z59pRzdqqtaNKPt+OQ84ntR4SYs7ayDkE8BlL302tx6Q2ADBrKLsRgKtps/NnJztqRACYuvoOOZtlb/oPFQOLAAACGAByxgqcd6aD7g+DqrX35/IXs6wk+R1hOCBkXvBRJee12Z/LKQajSk1qvcnzBOVGQghZUhQICSHkxnOIDevKUlzROnaOAysJ/mw7msx007matVNaV6w9naYc4HyW9QnRtA4A2s51ppDZ7/j4Leeu3X5XaZCQG0Vffd+5TpxETO3i2/Yb7QgAXksWR5b/tta4/h/6jFnEPiGq1u4NAwdQ5iLHeUmwLb5f4HxPGNatBYCtgb9KqhTdFt9PnPMYo/pVQgi54SgQEkLIu2MRM0SN2LQuRjetTdPaQ3Eccl4z9ql2e0TKI3Eypc24Jy+kmQNgACHnVWvfKrq13BvG675zGiRkWetcwliwFq7Wtb4VxUAAcwBrlNLoBqUcEjLk7EAu13ZudxBwBvtzYcXYUSXLQjCAgPOQ05JahBDyLlAgJISQN+jMfTqRJAXOTyRpingoilvOpejWKu8b7faZNKtYU7fWIWSIDgDfYpZXLXk92cWWUh4h745G6DSkPZdlAHBJL143+UyjCVd77XT6GAWMScYc4DrlbfW9yOG9+VyR802+NywlABQFH5UqJ3inrpXqVAkh5BoKhISQnuMQp41JnAs5f7Ydta29pPX5NJszdtaYTjXmiSSRjKWI7m0fjhCyFDpXYToZMUYERAA4nqbH0xQAvtJqwdVmOR0+Y0NS5DlHgLvCcJWSY0rFDm8LvPvz+aZ1irFNvscBqB0OIaSnUCAkhKxAkXMNa69ofTrNbvP9l6Noxphn21HLuUEhXoqTeWM6dWvZW0/A0zQ3j5Bl7vrPcIJ4+eoY46n0DZ1yyoJnDh3A9sDPc14WImCss/DGw8VCwPmolJt9L+BcUlwkhKw4FAgJIcuVdjihs1fjpGKsx9kVrVOHT7baFWvmjF0wJkO0AAreru8+IaS31exiKcDhb5vT+PvzCwDgMbZKSgbgcfZALtdybncY7AiCsuAFLoakLAo+JKWirEgIWYYoEBJCupRGdIga8UyaCcaeb7c14ktRLBk7FMeSsVltZo1puLcp6qQ0SAj5HmWIl/TivuRMmgHAp+sNdnXtDQRQjG32PQHgAPYEwSbfP1jMd9oLr1ZqQAiPMRpaJIR0JwqEhJAlZhEntW5ad1nri1k2o3WM+FSrPam1A4gdVoyxb702NyGELAkEyK7umFLEY1eX2eist/EfZ0AAAIDP2FbfH1HSIt4W+PflcxVjP1QqlQTPc57nnDrcEEKWFgVCQsgtohGvaO0zdjROZ41+LUnOpVlJ8C81W9PaGESg5RYIIStIZ4cWIb6SJJAAAPxTq/1H8xUAkJNTPuccYFAKAPhoX+nBQoEDzBjzcCE/plRJiCXcckJIT6FASAi5wSzixSw7k2YZ4pk0vZDplrUXsuzVJF0wRjKWIXVr6RWs0/kRGAP0wSXAAYADOAAAFoDNgDFgnaUaBeAGEafILrtwvYgnbOCAIYAAVIAJ8N2yuZonl12QY/YVXXyvV/2nbNBnDhF85jaI+JINhniGAAbYDwQzr+niXtV4SfdNO/8+Vfu7ZHSdiB8PZj6XDF9yOQC4W9VmEn5kKkOpSidPcK0r++8AAGaMvzAPjHGtTS7nV6uy0Vi4+x5grPzqkfbateh53sJCa9NmbjQC40abfIHrzCnF0ww9BQjB1BWGGI2NqzgCBF0qMWNQSgBg1uJ1p/v+/Fw6OAScL/62nGPOoZQAjBmNQgAtrLfiGADjHAA0MwcA/3Vu4b/OLXT+SgEMSbk98C2CYLDB87b63p25HGew2fNHlaSFFgkhNxYFQkLId6lhrWRswZivNVsXM60Ra9Z+sdmMnKsYG79F6LMUBrsdMgAEJsEVmMkz10ZRR4kAm0RkkE86f7VI7pa1efSeyQYe92cmbHDS5vfJZpnrKRc4hK2yfcbkfeb2qMYIT0+bwnoR3aXqT2YDBea2yPazun89jw2w1SIpMHPcFO5RtRxzG2WUoLhkg3UinnZ+AyUijPKUM6g7uUO2FcPOqo9XrD/CsynnT1m/yMxmGfkMY+Sdb+AAHrgMmA8IAE0URWZ/vXjGY85n+Cv5ixoYAxCI/+XLE8kTE1d/dFz19FPIGCAy54BzcA44RwDu3KqnnzJhTrWayLnJ51WzqYtF5hxzmJWKptgXTk06zxNxbINQZCkicmt1oSiS2Hm+DXwb5hCAAch2u7lpk1evp/39zLqBI4cvf99HcpOXkbGsf0DEsWq3nFQmDPMXLySjY9GaNbkrk9XdewZefjkeG8/6+50QQme6UHSBD8Z6jXrW34+Mc2NMGHDrnJTAOTMGGKCQwBggcp05qRbjJSJQpWJX0gBTxky1zNU72p3/MACfsaLge4Lw7lw4quQVbfaHwYF8vk9wn7Ec55xeU0LIu8duwZX6J554AgAOHjx4s5+IEHKTTGRZjvNn2lGng8InKpWGdYfjJHUuRXyr7EeWQidxQB/TTZQMcI9sHjVFDYwDhMxKwC2iPeX8IrNFbs6ZcKuM9sjmUVNYJ5IIxX7VWC0SBW7eeXeoxmYZnTXhi7q8nsebZeQxF6EYEVk/0ynwsyZ3u2xlwGpOjfDMLi77xhCg5USJG97ZILa4HBzC6zfgjWvE3WIL9eyFY5UXT9SeebXSjpe+VBkZY4hw3W8Gr/65iDHn+TxNAMAJwZ1DzlEI5BwAmLXAmMnnwVqTL3j1ejo4aIMAGYvHxmW7xaxNh4b6Xz0Sj47N33OvjCIThLpcLh17zYahDcN0aEjEcTqyCgBEHAOADcPFrWDAtEEpeZY5zwMGS/rSkW+lAAalLHC+zfe2Bn5nocV/Xu4bVarERZ5TMxtClqtblqEoEBJCXte2zgCeT7OXo2je2ouZntK6X/C/qtaBQeQQXq/3I7cYdooqDbAiswxwl2y+aooZ8n6ufyF36c+i1TGKrbK9ViQNlP++cOY/tjb/UDD9kWD2Bd3XdmKEZ1ecv0VGG0QcoZTgfObaKHLMCcAWiiK3iKCBeQwRwCBTDOG6kaSVMaSUZPbcZPtLz81++YXZboiCt8zraZwxQHSebwLfazRQSnAOpXRSZn1lYMyvVk0uZ4OgtWEjz1LrB35lIRpf3XfqZO32XbpQQCF4ptOR4fy5c/GaNcnwiEhi5wfW814vfGXsuvcNUIa8xQRAyPmAEHvCYI1Sec4fLOQXrN3m+zsDv8CFx+kVIaTbUSAkhNxcmXML1h5PksTh0SQ5FicL1p5M06Z1C9ZoGvO7uVACIoAFDgAKHALsU41DujTK0zbKPDPDPIuRbxTJA37lsgk+HMy+ZoplZp7XfT8bTgLAuEg5YMWpAaFHuG47zgF85jovHWcQIw/BXR/hsOfPys9Otn/9vx+bmk8cvcPfmesHKtnVMAmMOSkZANMapbJBwNNUl4qAmIysMrkcAITT07PveTAbGOg/fKi1caMNcsiY8z3n+blLEzYMs8GhrFxmWqNSb3jKm3DVgVGb4qskQMj5bYGfOdwbBms89VA+XxTi9jAIGAtodiIh3YQCISHkhskctp2d0mZUyc83ml9qNBHwq8123b7lTD9ygyyeTpeZHuPpGpFMO3+3bP5UOHnYlKasP8yzHLN3e/ULJnzQrx7Vxf2q3kQZMNfHTIw8ZI4zCnLfK2Px889MP/dqZaqSnJuMlnpzeoX1fWYMsxag01cIUQhgjBmTlcsiSaPxMdlut9euA8bba9epVhMFj8fGRRzlL05Ud+/R5TJy7tWqWX8/SnXdSCN9Jm4YCYAAo0p6jH2wWGw4u97zBoV8pFjY7HtFanZKyNKhQEgIedcQ0QLMaONxNqX1FxrNOW2ebUct5ya0jpwrcN6w1rz9I5FvxQEdsM4NCS672i2zj+kCs1VU4zxBYDtk8w7VeFH3bRLRWpFkyNaJZEykeWa3yEgAWgAB0Ml4QKe0t0Sa2U9++fKffnbi7b+VLJ1r5yJOKa41AKBSOl8AxmSrGY+NR2PjWbnMnEUuZLuVDg3rQoFZG69e48/PxWPjKOXi6OIKqGzuAgJgUIqH8vl1nle1dliKj/b1jSu1xlMO0aOxREJuvluWoajLKCHLmEE8liQW4WgcP9FqT2R6yujTaaYYJA6/fXZUxfbQjKl3r9NdE+TV7DfAssf8+RM2f87kfr1w+rApXbLBXtXcKtpzzlst0mGerRHJapFOWn+diB0wBqiuW2nh2107h6Iz1lsAEbXBl0/VKA12v2ufCKH14j1a+7Vq53Zh4mJh4uL1l1E6HzKTC1Ep2WiYQjEZGnJBUN++M5y+Eo2NA+O6r8/k8yaXY9Zyo00uj0oybRiiU4py43dmAWaN/dt649o9vzM7rxisU17N2n85OGARtwb+KinvyeeKXBQERURClisKhIQsD4hYt+6bUaQRj8TxnLF/Va2VpTiTZua65oQdGdWBvgkUAHax5gzvVjUAGOPp17KB22XroLfwtB7YIxsXbPjDwfSEC8d5skHE+1TTAbRQFpj5WbgC7M2D3CYZd56i8yWdZy456/Doucbv//XZRtvUW3qpN4fcGOxbb6OKFguAvWbDazYAoO/4MXbdR9F6nimWVLOBnNdv2y6SxF9YAERdKlb37GuvW5+7fMkpFY+PO6m4syZfYPrq2o/0SX4jBMgQzmQZAPyX2blr9+cYCzn/ob7SpNYPFwv7wnBvGCrOylRuSsgyQYGQkG7Usrbl3MtRfDHLUsRX4uT5djRtdNW667sjTBkq/3yDTmFnkZkmCgBYxdMPePOfTUe2y/Z+1bjfq/5TOqjAxcB/LX9uUGgGMGP9UZF6DBEvdFpPfMtJIAcoM/o9LxuIUGtl/+PvL3zp+Vlt6NJIz2HX/QmIMk1luhhdBg8fuvZt4fxc8dw553k8ywBAF4vAGM90e+1aVa+ZvvLCvv02CJhzXrVS27UHlULOmXMoBDMGlVxcUIUARIiRtf9PpQoAn2+2AKCP8xEpQ85Hldzie9t8//58fkypNZ56uwcjhCwBCoSELD2NeD7NJrKsae0LcfxsO3oljmOHyZtN8aUzXACQ4BwwAWiBSXDv8xZOmMIO2TroL5w2+R8Pr5w1+W2qPcrTYZ79qrmwUcYMgDP4fn8OABDgWsf1dTLp3GBvOJEky9LkXMwZfOHZmc8+PbPU20K6HQMQWda57TWbnRt9p08BAMzOFjs3OAfEkWefyfrKTgoZxenQEM/S5sbNyciqdGTESSHbkSkWRRybfP71xTZ6W925epYBwJEE/rEJAMAAipxv9r19YXh3LrQAd+TC9crrEyLkjNMvjZAlRYGQkCUwq/W5NHu63Q45/8dm83CcXM60o7B3HQZYZjpCgQAlZnfLxsumNMyzcZHuk41VIlPgdqtmC+Uu2RzkesGpVTzjiy3x4U6vee2htqj49YfttJy49T8PuckQ8aUTtY/90TGHaCx9ksj3anEv4RwA+NWqX12czZi7MskAyidOIOdOKqcUsybrK4ss04WCLhRqe/aaMJcNDshWywahDQKvVs0GBp3nLdkP0wUQoOHcoTg5FCd/WqkCAAPIca4Atgf+Zt//UKm4Nwz6hRiUMqSONYTcWhQICbmJHGKCWLd23pijcTJnzAtRfFnrl6I4do7KEDsYIAOQgAM8W8XTGioO8GPBlfu96qQNNolos4xC5jSwFPkA1/LN8tyYWLzSTxeae02c2hePV595tXLiQjPVbqk3h6xw13YwzDmRpSJLAUAm0wDgVysA0H/8GDLmlGLGmDAHgst2e/JDHxZxJJK0sW0bNwaFaK9bD6wTe76tTr03IEDbOQB4Loqfi+K/rNY4QI6zIhc7A39fGN6RC0PODxbyIee0QCIhNxUFQkJusMi5BWO+3GgeS9KjSXIkTurWpog0AMgBR3jqM7eKp+dtLg/mYb+yU7YC5lJkj/iVMtclZlLkkqHH8M1WGqMuqeQN5mvZ737y1POv1WhUkHQPhtgpRvXarc49az7/WUBkAEMvfpNrjZy3NmwUaRqPjNggQOUlQ0Oq2YxXrUrGxp2UALC4igb2UFx0AC2HLWemWuarrXbnztVKOoSDhfwaT31/XwkQHijkOQDrmV8LIbcABUJCvidta8+k2UtR/GoSH4kTBDiepAAw3avtXspMA6AFJgCLzNRR7ZMNxuCgt7BPNTeKuMyzErcZcgcQggOAb2ndmWNXB3nocE/eWpLZK/PJ1w/NP32kutTbQsjbYFcnhHeCIrO2dPYMAOQvX+pc+Or8NXKOQmT9/bpQzPr7nZTB3Nzsgw9l/f2lEyei1attmHO+b3I56JkRs0ltAOCTtToD+L9m5znAmFJrlZIMPlgq3pnLrVZqVxgs9WYSsrxRICTkXYicYwBPNlvHk/RkmtatfT6KLma9Waa2uGpfmekGqvd6CwdU/Yvp0E+EVx7z51PgRWYKzJ434W7VAvjW1BewnvydkRuhGZk/+Nuz1aY+cqZhHQ0MkuXt+m5WzDlwLpydDWdnr31D8fw5AABElDIdGFSNeuO27VMPP6KaTd1XMmFOxrFfqbTXr1vZV9EQAAEcwCWtL2kNAF9vRwCQY+z+fG5XGAaMDUixPwx3h0FJCJqISMg7R4GQkLeEiJHDF+MIEf6qWr2UmcNxrAEXjO2pNMMAO38G4EZFOsKzIjfbeJszHBPpB/35eeftkK0is/+6cN5neP0pyR6vtVSbTVaehXr211+5nGT2i8/NvlkLXkJWoGuji8yYcHYGAAZeOVw6eVIksVPK5nIiScDahQN32yD05+daGzY0t24DAJMvdLqkruyi0wjxK632V66WmDIAxdhGzzuQCwucv7eQ35sLR6TsF4J6mRLyVigQEvIGNWNfjqOKseez7PON5qkknTK9spYZh06Ww36mIxQ+c7tUExA+4M8rhh64naq1TbZzzAXMXX9c3QyLbTyDXp8mSW4W53Chnv38fzpUa9Iq84SATGIAEFqLer1zz8izz3Ru9L96xCllPc/mC9H4amZta+PG+vbtAMz5fuHcuay/nA0OrtThRATIEE+m6ck0BYD/vlCRjPVxvtZTP9BXGlVqdxhs8rxVilZEJOR1FAhJ73KIDuBEkl7Ksi83WzVrz6Rp3bpXk6QXYk2Z6c7q7QVmN4lop2yu4lkbxE7Z+mfBzAUbrhFJgRkAJlhnhJCQpVFtZn/yDxcPn65TGiTkbbFOUNQa2u1wdgYB+l99ZfxLvlOeyefCubnK7t3t9RuZtapeU83WlQ895nwPHIo4toXCUm/+DYYAGnHe2vnYHooTABAAOc5vC/xhIR8rFdd6am8YjigZMloOkfQuCoSkt2jEw1F8McvKQvze3PzRJJnMdI+0fykwbZCvF/FGEd3r1baI6JwNPxzMjfI0YE4wAHx9xfZd/FqpZy+kY9KltHFffG7mL754qRmZdkw9Zgl51zoRR6YppKnXagLAwCuvDLzySud+BOg7eTwZGbGeb4MwK5e9WrVy14FkaMivVLJy2RRLb9bweRmzAE3nXoxiAPhCswkAHGCVlGuVel+pcHcud1cuzHM+IOkMmfQQeruTlcwitp07laavxPGX6s2qcxfS7FyWrdwZgJ3wxgBwPY93qaZFJhj+aDh11uRGeLZHNXfIlgMmATn7tqM8W0kHfbK8IWKq3cf+6NjhU3XqHEPIDcTeeFsmSWFiovNl56DQ/9rRdGBANRrRmrXVXbtFmsRj4+nAoA1D5AyEhM60xpUynuYApoyZMuabccwAJEBZiLvzuTElf6K/nCIeyOUGKR+SFY3e32SlSZ3TiE+22n9ZqV7I9Lksm13JkwARgH3Un1YMz5rcL+UnLpqgj5uQ2ceD2QKzjL3posdXWxTc8s0l5G0hYpK5v/jCxKFT9dfON5d6cwjpIYvNThGDhQUAKJ4/Vzh/rtNQ2uZy1g/i0dHmpk2q0cz6+rL+/nRo2IYB18aG4crIhwigAeas/VyjCQB/slBFgDIX+3PBnblwdxDsDIMNyhtSdP5MVhR6Q5Nlr2Ft1divNpun0+wfGg2fsZNJmiKurPIyzDEXoRDgfiSYeln3MYbjPHnEq9RR/ELucokbgyzPHeK3DfSthGM06RWNtn7hWHVqIf30167EK3gsn5Bl4tqqGDKKZBT51Urf8WOdiIhSIoDz/XRgwClV3btPRlE8OhaNr0YpgTGeZc73l/gH+N50rp7WnP1aq/21VhsABECe87tz4W1B8JP95VVKbvA8ByBXRB4mPYsCIVl+ZrW5kGVPt9svRXHV2ENxvGBttuKa0HPAQZ6VmTlvw1Ge/kbhdBXV7bJ1v1czwAyygDl+3QHI77R+oUMSWZ4corP4Wx8/+exRWmiekO51LSIyYwBAGKPabQAonTuHjCHnzvfTcj+zNhofr9++y+RzgJAODKJSwNhyP0pZgIZznYUu/nhhQQArCxFydncu/MFyeU8YrPe8HC2BSJYbCoRkGagakyEeiuJPVmsRui82Wm23ciYVdVb5QwAO8LC38M+DqZOmMMCzMZ7uVK1tMmqiSFCMiZRdneDhAXpsxfwCSK8zFr9+aO4TX7jEAM5fiZZ6cwgh3yWGyKzlUSSjCADCmenBw4eQMRQi6+tLRseamzanQ0P+7Gxz2zbrB8y514cQl2FQ1AgacNoYADif6b+pNTzG+gRfq9QHS8UPFIt35UKN2EdLIJKuR4GQdKO6tanDp1rti1n66VrjSJJkiAZxZRSQSXDrRXze5orMCMB/lZtoodwuWyMsu9+v5Zn9lprPAWYAFjuh0iGFrDAzleQfnpr6zFPT9XaPtPslpFcwAEBkiOBcOD8fzs+XXzsKAICoi0WRpiYMZx462H/kldaGjXP3P4BKyXbL5AsAyzIfIkCKOGvsrLEvxcl/mpkLGJOMvbeQ/6G+voeLhUEpAs7VMvzRyIpHgZB0BYtYs/bZdvS5RmNUqj+eX2g513ArIwAiA1gn4orzfjS4MuX8x/3ZR92WRyYAACAASURBVIP5F7PSAa9hkQ1wTUcH0oMQ8fyV6Lc+fvL05fZSbwsh5FZgVyd3eM0mAIgsW/uZvweAwsTFwoXz6eBgfuJiOjRUv20HAKTDI6ZY0MXSYlPT5VaHiQAxIiB+ttH8XKMpGeQ5L3HxLwb7N/v+3jAocbHB95Z6MwkBoEBIlgoizhpzNs2uaN1y7k8Xqi9GUbIixgAFOAHYz3Ub5X5V3yTiA6r2A8FsBqyfGQRgDBjAB4LKUm8pIUvDOoxT+39/8szTRxbitIs+9IVQGIsAsHEsF2snORsueycmWpKzXCCMxSvzCWdgHSjJGDDOQQrmKd5oG2txbCiIM1ttaCWYtig4c4iIoCQrhLLa1Ev98xHSdRYvhyIWL14oXrwAAOH8fPnEiU7TGidke906AHC+P/3w+0S7Ha9eDVwsu3UvEEAj1KyrWfeb07MAwAFCzh4pFApC7A6Cg8X8njCkyYdkqVAgJLeORpzV5uU4Pp2mn6s3no+i2C33BIireDbvlAS8R9W2yXYd1VbRvlPVD3j1JsphninA60tAl83hi5CbI07t//fklXwonzw0r7tpRZgH9gz825/eBgy0dgMlDxHj1IUBjxOnrSuG0iF87unpjeO5MBDW4qp+P7MoOBRDdWaydW6y/dh9oycvNuttvWYkrDSy0cEgSuzZyfYdt/X5nvinF+cuXInu3zNQqetUuy1r8n/z1cuMsT2bS43IbF1TOHelPVdLSzl57kq0ejiYnEscYqZdpjHTTgimjZOCXZiKjMW+vMqM60ymjlNnHfqKp3qZ71AJuarTtIYb03f6VOee8rHXACAZGGjctiNavdqr15i18/fch0Iso2R4jQNoO/yHxuLKOmoKtgb+e/L5XUFQEPyhQn6t8jy+/H4uskwxvPm9GZ944gkAOHjw4M1+ItKFNOJL7WjGmpfa8adq9StaL/dCUB/sZhGdsbkDqrZZxP9n8exJkx/j6WqZKEAJuAwPTITcCtbh2Uut3/7zU2cnu6hzTLmgHjkwvGl1/u6d/SNl/7u+ZmMdCt6ZM4XszfYCiAjAGAMEBGSMQZpZJTnn7NpqMcY6Kfj1x2VjFx9WW5SccQ4XpiJP8YGSl2aWc1ZpaGNdzhcO4R+/ObNmONQGM+0Q8Nj5pjY4XPZ3bS4CwHNHq0lmEaGUl195YW5sMEi1jRLbim2mHQBIwToDpJyB4EzbLorrhFwPGesMEqYDA87z22vX1m7fJZIkWrPWKSXS1BQKyzElXiMBtvj+bb6/M/Q/2lfaH+YUgzfdsZCV7ZZlKAqE5AZDxMtaC8aearX/rlY/k6avJWm6XNeEQAAIwBW5SZD/cu5imestMtojmxygn2sEkLR/JuQd0Mb9j3+48PlnZhpd0zyGMbhjW3nvttLPPLZuWZ9pfUsE7RzWGWPaOETwFL96J0tS63ucMTZbSQb6PMbYfC1FhEozm55PRgZ8wbmxjnMohPLo2Ybn8VrTXJ6Nr8zFI/3+oVO1jeP5JHWXZiMANtLvTczEUWIRwFrsFMou2W+B9DAEQCGYtc7zsmIRlXfp8Y+afKFw/lx95+0oBHC+2KR7GWIAa5Va76mNnvfj/eW9ubDEeV6Ipd4ucitQICTLhkOsWvvNKHq+HT3Xjo4nadXaxLllO10GOcDj/sxTWf8PBjN7VaOB8sfDKQmYZ1Ysz8MJIUsFESfnki8+N3PiYvPFY7UuiQuMwabx/K/9zLYta/KMrrt/ZwiwOBiDSeYCjwNAqh1jTAlWaWSNtlmMoJwdv9CsN7UQbHIu6S+q0OfPHa1OV5LZSjrQ58WpU4IlmTUWu6pamKwwCACcmyCQUaSLpdb69TYMo9VrvVq1sv8OUywuft/y/OCXhShwdm8u9xMD/QNCHMjnaObhCkaBkHS7i2n2dLvNAP6uVv/HZqvllmMlKHIAB/CoN/8N3f+wt/ABf/6cyf1wOH27bF2ywTqRLM/jBSFd4bXzDSXZb338VFetLjjY5/3yP9t4987+Yk4t0xGDroVXW31Yi5wDA4aIxrpG2yjJECDwRK2prcVjF5pZZqstXWlk1kG5qCamomMXmoBQKqiLU5GUTApWb3XLeDJZAZAxp1S8arSxdZvzPJQiGl+jGvXm1m3MGPSWX8NPBrAz8Lf7/oFcbkvg/UBfn0X0KB+uILcsQ1FTGfKOIGLLuYtZ9vVW+1yavRTHL0ZRa/ktDo8AbIdoauBDPK0470eCqa2y/ai/8Lzuu1/VPL54gYQBrJfJEm8sIcsWIs5U0l/7g9fasbFdc61ooKTGh4LdW0oH7xgSgs6ZbrxrY63yajUFY8zjYqj8ennb6KAAgNUjYWfmJCBmxnlSAEClmYZK+B6/OBOPlH3O4c+/cGlsKAg8PltJnz1aGR8OGm2baVtvmXJRnbjQzIzTBpVkNORI3hZDFFlWuDRRuDQBAMi5Y4w7V9m7P5yeuvKhx9LBQX92tr1x03IZPESA15L0tST9dL3BAcaV9Bj/NyNDDxcLg0IOKzrJJ+8UjRCS72RK68lMn0zTv6rWvhlFC8bapd6kdwkBQACEzBz0KudMzmfu0wMvB8wF0BnSZJLRaQQhN4xz+OyrlZlK6nv8dz95xnTNpLLHHxz9uY+sD3yhJBfUu6+7XZsVed0NAEDrsFPhGyXG9/h8LUtSe3EmHh0ITlxsKslPTDTnq1khJ6VgX3pupq+gMu1a8eKBS3DonssTpHt0Lk04IVBKZsz8nXeBEK0NG9OhYVPIq1o9GxzEZTVnTwD0C/G+YmFWm/eVCj9WLvdLMSQpHy4/VDJKloxGrBrzO7Nz88b8TbWeIS67kh0BbjVP71T1YZ76zG2Q8fu9hbUicQAWmE8JkJCbABFnq+kffvrcM69Ws25a/yAXiD2bS7/x89vzAZ0PrVjXmrg6RHTAOTxzZGHv1nKc2aNnG85hKS8vz8W5QD5/tHrsfCPVrpiTEzOx4MxYZAC+x5Osi963ZGkhYyhEVi7LVqu28/bWpk0ijmu79jjfh+vXkloOJEBO8Ptyuffk8wfyub1hMCylWCajoD2OAiG5pQ5HccWav6hUX46SurXTxiTLpy9ogZkWihBsiZufDK/0Mb1HNbeJqMhNgVm2zPbbhCxLiPjVF+d+95NnosR2yc6DARRy8j17Bw7s6B8q+3u39i31FpFb6vrRRQad8tROgxxsRdb3OWdwcToqF9Sl2fjUROvBfUMvn6w22+bs5ejYhca17qmNtlGCMQ6Z7o53NlkKndc+GR6OVq/RhYJXq8098GAyMgKIwPlyKTHtKHG+1lM/Wi4fyIdrlTeuZD8NHnYrCoTk5mpYu2Dsi1H0t9X62WxxZYjlcqyT4BDgp8Ir503IAH4xP+EA1vB0mGfjMoXl2lmakGUpyezTryzEmfvE5ydmKulSb84i3+MDRXXv7oFf+eHNnC4LkbdzfXq0zlmLcWoDX1yZi588tPCevYPW4ZMvz48O+pdnk5dP1vKhvDwbL9QzX/FML7/59OR70SkxtUolQ8M2CLL+gcr+O3Sp5M/PtzduXLz2sBwiIgPgAGs9tcMPfm6wf0yp+/I56rrcVaipDLnxFozJEJ9tR5+q1r7cbLWdWy7DgByQAxaZUYDv8Sr/rnhm3vm7ZSPg2DkO02oQhCwJRPzDT5/7+69PL/WGvEExL//1j215z95BKRin6YLkHbh2EswYSMGlAN8TALBpdWH9aF4IBgDb1xcBwFjnHCjJnn+tWghlf1G9cKLqK9Fs66deWVioZ/lAzNWyVmyMWSaHWPIudd4rQuv81BUAwPPnBo68AuiyUt/8vfeZfL61foNqt7K+MkqJXTz4hgAW4EKmL2T6C82mx9gdYbAj8H9paGhYyXGlJNCqPL2ie9+m5IZoW3cqTQ3iZxuNP1moVI2NlsERarHTpwS3QcQc8EGv8ngwu0u1QrABc5zBJlhsAUpRkJAl9I0jC88drS71Vrzuw/ev2rulb3w42LmxJGnvQG4E8cY3khQcBADAvbsGOveMDweMMQT4wYPjiKgkP36h6SsuBPvDT58/sKNfSfbK6cbRcw0EbLSMcYgOaVRxxWAAzGgACKqVNV/4nJMKBWdaZ+VyMjwSj43zNKnt2ec8lZX7gbGuHTzMEJ+L4uei+OOVms/YiJS7guCH+vvuz+fWKlVYVm11yLtFgXClcYgacVLrb7ajb7Tan2k0L2kNVzNWF0MGIAFzzH6scOa5rKwY/q/581tlzAGp4IuQ7lSpZ3PVpS8TFRxKefXe/YM/8+H1g33LbzExsqx1hlAYgJKLa5ns3Fjq3PgPv7DD9wRj8PhDY8YgZ3DsQnPDWO7oucbTRyofODD81OGFw6fr+VBog8fPNxGAMVgGl23JW+NGgwEACCqVoFIpnzwBAEMvvYiMLdx1QBcKycgqGcfNrducUgDQhfkQARLECa0ntP58sykBVin5SKHw/X2lO3Jhn6CGpSsQvaIrxIIxx5P0hXb0ZKt9JImvaGMQu3yJCAa4RURlri/ZYJOIfyy84oN7fzA/wM3P5y7zbtxJEkLeIEmXfpzDV/y3f+n27esLYSCouol0lcBfHFThjHmKAcCeLX0AcP/uwXtvH+Cc7d1WtsZxweotfX6yPdjnnZ1sX7gSZQaPnG305WW9pY9fbHLGumcFF/JdEFkGACNPf6PzpVOquWmLC3wnZXvN2saOnUxrm88DdOOpjwGY1OYT1dqfV2seY8NS/MxA/3rP2+R59xfyOU5ruq4EFAiXsdS5qrVfb7U/Va19tdWu225fYIkBCkAG4ABHuN4jGx8rnrtdNhMUHnPedatBUKkXIcvC+HDAlq4AoVxQP/3Y2tXDwb5tfTRXkCwvnXcsA5CSA0B/0evf7gHAmlW5h+8EAIhSG/oCED7/zMwdt/WdmWyfm2xHic0H8p9emgs8fnkuaUXLblmonnZtJyW0Lp88DgAIMPjyS/prX63u2WuCsLZ7DwrOnDOFYhcmQwRIES9r81szcwDAAYqcP1DI3Z/PP1Yq7QsD3n3bTN4h6jK6/JxN08ta/7e5hUNxclln7aW/QP8dIAATgA95C3PO2yyiR/yF7bLlMbeOJ2VuqBaUkGXtuaMLv/HHJ9JbvupgLhD37Oz/lx9Zv3ZVSKOCZGW71gHVITIAxli1kZUKqt7MXjxR44w9cWh+x/rCC8drc7Us03a+lnX1eQF5M1c7l3rAmc7l5++9z4SBLvZF69YDOobYzc1pAMBnbJ2nVkn5K8ND+3PhGqUCGjm8EajLKHld6pwF+Fqz9Zl641yafqMdJd29RIQHNs/sw97CMM8mXfDT4eRDflUAMkBFZ26ErCjM3fJzz8Dnj94z8is/slnQqCDpAdcueVwbfukveQAw0Oc/es8qAHjkwDAA+/FH11qH2uDXD88Jzqp1PbmQnLzYmpyLfY/PVbOl2n7yTlztXJoBgEjT1V/4XKf9TDQ+bv1AxNHl73s8GR0FuFpT2mUXwlLE02l2Os2+0Z4IGNvgeR/tK32wVByWcovvUTjsfhQIu9fFNPtEpaoR/6xSTdHNdvUEAhzn6WqRXLDhftn4cDC3WbS3y/aQ0J2/7q79FiHkBmEM3C28PDU+FHz4/lWe4g/tG6Q0SEjHYlcbxjhnSsKH7h0FWOxMY6ybraSDZe/M5dZsJa029cXpaGYhPXKmAQyS1CrJb/0IP3lbi2tiIuYvX+7cs/kvPpEO9DNtGttuU4169Y47ovHVyAVw3m3hMEE8kaYnZuf+8+ycAtjo+w/lc780PFQWYkxJCofdiQJhF0mdazr3TLu9YOzvz82fSNIuXyeQAfpg14lkh2z974VzW2VkkXGGPuvqzSaE3Cj7tvZtHM+fudy+2U8kBSsX1cd+dtuuzSWqESXkbXU+JUry1SMhAOza1IcbOy1MERHasZmvZ1FihWB//oWJDWO5kxdb9ZauNnW9pRGYsbfyUg95ezKO5GQEAOHsDAAMvHrEhGEysqq6e48uFv2Fhcb27bqv3G3hUAOcStNTafo/K1XF2HpPvb9Y/GCxsD0ItgX+Um8deR0FwqWXOfflZutSlv1Vtf5SHLdvfQHWO8OvtsIWgA+o6qP+/BbZbjj5kXDWZ3h1Td/u3HZCyE1Rb+v5+k1fdmLtSGgs/h8/u5XSICHftauVhowxKOZVMa8693/sZ7flAukcWIfGYjs2M5Wk1jKHTtXmq2kulC8cr1LFafdY3AMiqihSF84XLpzvvLT9rx2tbd9euHhh8rHvQ+VZz0Ovi9bgcQAp4qk0O5Uu/OH8QpHzDxYLj5aKd+dyW3wvT4scLjUKhEsAEWvWXsj0C+3or2u140k6bUy3BikEgCIzozz9zeLplhP3+fXMsQ0ypkaghJDLM3Ga3cS9V+DxjeO53/lfdinJPcUpDRJyw+VDBQBCgBDMU5ALxFDZY4w9sHcAEBCgUs8uTEfo8KWTtVMTLURoRfbiTJRmVGu69BaLSwHyly/lL18CgMKFP7BBmA70z93/HtlqpkPD8dg4StlVg4dN5/623vi7eoMBDArx3mLhQBg+WiquUnJUqaXeul5EgfDWcYgn0/SZVvtTtfpLUdxwLuvKggwfLAAYYI968+/xqkMiu1vVxkQWMNfpggV0HYcQAgAAo4PhTZrKN1T29m3pe+iOwTXDYSFU3XQmQ8gKtzgpcfF/MFT2B/s8xtiBnQNJan2Pa4vnLrebkUaE1843Tl9qX56NL83EANClNU69RGgttPaajcLFi8A5INa3bV+464ApFkwuZ/IFnmXO86AL5vJ1rijMWvupWv1TtfqvTU33C/GRvtLOwH+kWNwTBpJ2/bcKBcKbyyFqxFlj/rJS+28LC1PadGcIBAAFbhVPR3j27wpnhkSWIt+nmvJaLSgAUG8YQsgbjQ76j94z8v8+OXVjH/ax+1b91IfWDvV519b1JoQsoWuD852PpCfZ9g3Fzj0HdvYDwGw1TbVbqOt2bD779DQAXJqJZqsZA0RgGfWtWQoMAJwDgPLJ46Uzp5hzKGRl9+7CpYn6jp3zd92NSlrPh64p13QAC9Z+vFIFAA7TD+Rz+3Phe/L5+/K5Nd1U/roiUSC8KTTi4Si+pLPfnJqdMrplXdxlOZABcsARnsXIfzk/MWGCHwmnbpPtQa45rQ1ICHlnZirJyYnWDXzAQih+7vENHzgwXMhJKhAlpPt1PqerBgIAWLcKAOCBPQMA0E5MkjpP8WdfrZyfipLUnpxozVbSZmSor+mtx60FAGb00KGXAcB/6uuD33w+GxhobNkarV2XjKySrWYyPNI90w4dwFPt6Kl29PtzCx5jd4Xh7UHw04PlBwuFpd60lYkC4Y10Kkm/0Gg80Wp9M4qntcHODLyuIQARQIFjADtl698Wzu5XDQ4wyDWddxFCvgulvAq8G1N3NDrob11buGt7+fEHxzgtKUHIstWJiIVQFUIAgM5iiQBoHVqHUWwPn64P9XlfeWH2mVercWrTzGZd20hhhWIAMk3l1FRuagoZQyFMLp8MD029/1GTy9kw11VzDjPEZ6LomSj6eKVyRy68MxfuD8NtgX8glwu7oPB1ZaBA+L2a1PpwFL8ax39WqV3Ism5bKIIB+uBS4N/vz6wTyTbZvlvV14gEAUrcLvXWEUKWN0/yO7eXXz5Z/14eJPD42FDw2790+6oBH2hYkJCV5epHmknBpABfiYfvHAaAXZtLv/iDNtUOHX726RlEvDgdI+J0JT032dYWbTevvryCMERmjNeoq0a9ePaPdKkvXjXqpKzv2JGMjWXF0uKwYRfsmzXA81H8fBQDAAM4kAvvzuUeKxUfKOQLnIsu2MLliwLhd6Nh7USm/3ShcjxJvtZqZ4jdV/2ADGC/qgfg/n3x9DDX/VyXuaHPCiHkBkIGSfo97f/WjoT/4Rd3rB4OlKQmooT0EMZYLpC5AADgpz+8DgCMcVIw52B6Ibk0G79yun7oVC3NnHE4MR17itNcxJuqs//1GnWvUQeA8vHXnJRZf399+4785UsXfvjHeJbZMOySslIE+GYUfzOK/2B+YUCIj/SVNnnq/nz+3nw+L2jY8F2jQPgunEvT85n+XL3+pUbrdJrqpd6eb4N5Zv9VbuLL6dAPBDNbRfv7gjkDPGC0AyWE3BTo8ImX57+7fzs2GHz4gVXvv2tkdMjnFAUJ6WGdz7+SHACEgNUj4erh8J7bB7RxQoAx+OKJ6pqR3NNHFv7x+dmcL14731zaDe4FDEAYE87NhXNzCLD5E38qW63qnn2NbbdFq1erVlP3lbth2BDf0IoGtvn+R/uKB4uFB/L5POd0cHmHGN78EscnnngCAA4ePHizn+hmSJybNeZ/LlSeaLZfiKPYdVlJKGCJmTyzTRTvVZX7/drPhZcYA58WiCeE3HzO4a//8bFvvFJ5V/9KCvb+A8M/89i68ZGQjtWEkLeFCIwBIrRirSS/PBP/3ZNXVvX705X09KXW5GySaOvo6vct4YTIikUVRXP33GuDMB0ebm7eCqwrakqvYQAlzjf63i8PDb6vWNjk+0u9Rd+lW5ahaITwTWjE2LlPVetPtlrPR9G0No1u2s0wQAl4QNUe8RaGRHbQqwxwPW29LTKG7vo8EkJWuEQ78W7m9HuK33lb3889vmHtqjDwuqXXOSGky3XObRiDYk4BwJa1hX/zk1s7RebOYTs2pyZaX3tpLtWu2tBnJtvt2GhqVHNzcGuDWg0ARp/6OgI4z8v6B6q7dvsL8/XtO5rbbgNY+pNRBKg7dzhOfuHSZIHzDxQLd+XCfiEe7+tb7dHC92+CRghfZxCPJ8kTrfZnao1noqjdTSEQADjgvar6L3KXr1j/blXfrVp5bin9EUKWkHN4fir6xf90SL+D9g8DJfW//eTW/bf1BZ6g6YKEkBsIER0CZ2Asppmdq2VnL7cZh5eO146db56filiXNX5fYRCAARjfr+28HbiYv+ceXSw55UGXTecrcX4gF/5wuXwgH+4Igu5vUkojhLdOw9qzafaX1epXmq3X4sQs9fZc0xkJDJm9V9VKXP9QMLNHNVeLFGiBeEJId2AMjpyuv20a7MvLRmQ2jOXvvn1ACtqBEUJuMMZYZ9eiJFOSF3Jq43geEd935//P3p0G13XeZ4J//u/7nuVu2AGC4AISJEVSpESJki3JkWXJW2wnTuw4nX1SPcmku6u7elI1Nf1hqnq+zFLVU1PdNZWZSk9PzXQ7nUzSnUwWW4njfZWsnZREShTFnQCIfbm4+z3nvO98uCAt2bIWCsC5F/f5fVABIHDPc0UAPM99t+FrM9XLN6q7RsLvnVoUwfR8/cmXl+LEOceKuGFav9ZNo9E657D/pdPQevXIURuEtdHR4tFjUGI9L/WRwzVrv1WufKtc0cCBwL8/m/2N/r7DYXDA97v8ZcouLYTWufk4/mGl+m/mFs7U61Vr26cHGtiCxCe8tX8Qzh7zyv0S7dZ13kERURtyQOVtX0YTwSc+OPLbn97TaNq9o1m2QSLaMq1b/H1jufGxnACH9uRbv4CefWVlqM8//Xrxykx1tRRdmi7PLDbSjbrN6DhGHA++9CIAJ7LzG19fu+OO6u49jaFhJ6juHZc4dl6aUzcT4PVG8/VG809XVnNK3RUG//PY6PEwHDKmO/eh6a5CWE6SC43Gf14p/t3a2pVm1GijHujyEu9SdQP8Smbm0WDpuCkr4UggEbU1a93l6epP+9Ndw+EnHhj5wqNjPTmu2SCi1LTupm7d6H/w2IAIDuzOR7HVWpqR/evv3ujJeWuV6I+/Olmp8ZTmjSTOebXq4EsvDrz0IkTiMLPwwINJLlc8cjRYXmoMjySZTLoJK9Y+Xa197OKVAa17tbo3k/nvR0d2+36/1t1ztuH2L4TWuaU4+cvV4lfW1l6s1RfiuD3OjncZ2BrUoEQf8ZdzEv/T3LX9pu7BsgcSUacwWn3+0Z3feWHBvvnXqgCfemjHA8f6Hz053DX/nhJRZ7j1S6l10EXo61//5B4A1rkDu3J7dmRL1fjxJ2b2j2W/f3ppZrE+t9JoizvHDicAnPNq1bHvftuJjPzg+165VB3bdeNTn24MDlnPh5Z0F0UtJ8lyklxpRl8qrvVq/YFs5jf6+36xr7dXb/8t0LbtpjKJc19fKz1VqX6pWDzfaLbJj7KCs8AuVf+dzNRnwvnJJHPcKw+pps9TIoioAzmHf/2nFx5/YvbWRwQIffU//ZM7jx/oCTyeNU9EHck5JyLWuii2y2vR919cPHe1VK0nz59btW4L7p27SOJ51vOqY7tqu3Y1+/pKBw4lQeDaYMFhy17POxoGn+kp/Hxvzw7jbfGp99xU5jaVk2Qyiv6X2fnTtfqZer19fmBzEn/UX/ylcO5qnPmFzPyErongiFdti292IqLbI2jG6xsy+546eUfvXQd7ROTEod7WS+9ERJ2o9WKWUhL4eueQ/tWP7271wOtzVd+o0+eL/+mbU705U64lK2vNYqVtViB1IB1FOop6L17ovXgBQDNfiPO55XvvKx45mmSzulpNMpkUFxxej6LrUfS1Uvm/vTEz4QefLuR/Y6B/3PdGUl0DueG2QyF0QOzcV4ulvy4Wv1xcKyW2mfbGUQYWgIbbresZST7mL/2X2akdqhkqizcMh7MNElFHE+CBO/u/+dx8T9b7uZ/Z8bu/sE/AQUEi2oaUCAT7d+YAjA1nPvnAiGckTtw3n53vyXtLxebjT8xen60m1vEIxPfDL5f8cinz93+38xtfaw4MeKXSyrHjNz75qcz8fG3XGFxqhxxGDucbjfONxv++uJRR6nO9PZ/qKTycz437fip5NlYHF8KGtZNR9JXi2n9aKU5H0XQUtcMqYAX7uWDuC5m5gsSRk7u80qCKuCyQiLar/WPZj54c/q9/7YBvVHduzkZE3UYA31MAPCM/++AOpQTAI/cMWecaTfuX35ke7A3OXCo+++oKy+HtEUDHcWZ+HsDgqRey09P+2tragQOmWp38Ps2LSgAAIABJREFUxc/bMHDapNUME6Bs7Z+srP7JyuqQ1r/Y23NvNvNALntPJmM69h/BjlxD+Gyl+sWl5e+VKxeajSjtHzQFJ3AJ5OP+YiD2mCn/N7mrgbKd+h1BRPRexLGtNZIC9xElIgJw85T2KLYra81nz61cmKwYJbVm8u3nF2oNm3a6zuaAOJtdvufetTsOJ5lMs38AIk7r1Bcc+pA7w+A3B/ruyWQ+Ush7G5Rny9YQdkwhnGo2X67VT1Vrf1NcO1uvt8EmMU4AB/xmOD1hakdN+TF/2RfuEUpEREREtzjnYB2m5qs/eHFJIF9+YmatElfr7TCzrSOtdwCRtQMHdaOx8NBDpQMHnedDkPp6LAHGfe9ThcIj+dzn+noz6n0tp+emMgBgnVtJkivN5hPlyr+cma3Y1EsgWt+Ex03p4/7iAVMLJfmlcI4lkIiIiIjeiohAC8ZHc3t/NgdgfGfm2P6ec9dKp15bLWTNN55bmJyrpR2yk6zfdTvX2ocmNzVZHt+noqg6tmvhoYfifMEpgUpn2NABV5vR/7m0/O+Wlg/MzI0Y88+GBz+Yyx4Mgq0P8+616QjhbBQ9Xan+m/mFs/V6MbFpj687AHea8j/NXjtuyjds8FiwnJG0QxERERFRp3FuvapY50Sk0Uj+4tvTE2O5ci3+949fixO3UoqSthgF6TAOiHO5KJcv759YO3xYRc36yI6orz/tXOjV6pd6e+/NZD5WyB8Jg3e/3r4bp4wmzj1TqSYO/8Ps7BOVaurHxyu4AWmO6cZH/OUT3trHg6U+xW2FiYiIiGgjWeuUEmvdylozn/Neu1o6f620Volenyw/+8oqq+FtaP1PK+8dr4yPlyYO1HeMinNJGOL9zeF8n3zgA7nsXWH4P46N9mut36kZdlEhrFm7GMc/rFT+YGHpuUo1AdIdeguQjKjG/9Z7bioJfymcy0kiqe1wS0RERETdxzmIxLE9c3mt3kief231xdeLi6vN1XKUdrLO0xo5jDOZlbvvKR06VN8xqhoNG4YpRurTesyY3x8ZGjbmE4V8Xuu3/LTtv4bQOfc3xbVT1doXl1dmo8im3ANdr8QnvWJB4k8ES58KFoZUxBJIRERERCkQAWCMuveOPgDHJnr+yed1sRw98fKSQL5zamFmob5YbMYJhw/fmQBepeJVKuG3vxmsLOtKxS+Xrv7yr0Y9PVAqlWGf1SRZTZJ/PDkN4O4w/MXenruz4Wd6erIpDWBu9QjhUhw/vrr2R8sr03F0pdFMcQqmgS1IXHX6kKn8Qjj/c8H8Ua8ijoOBRERERNSOrHUi4py7PlfN+Po7pxYvTJabkf3hmeUkSXu1VedwgDNelM8XjxwpHTzYGByOentT7wATvv+b/X0P53P3ZjMDWmuR7TZldC6K5k/c88NK9YVa7UKjudlXfBsC92Fvedl5BYn/oOdc0ZnDppJXCWsgEREREXWE1mmHDmg0E9+oYjmanK89f27l3NXSc+dWWQ3fPSdiPW/53pOrx45HhUJU6IVOc52hAJ7IQ9nMbw70ywvPHwyCbVIIv/i1r//jyanmffdv9oV+OgdIgOT3spNr1vzLwsUelZStHtKch01ERERE20QU2afOLhcr0cpa9I3n5hdWGrUGN8Z/Zw7ilNggaPT1F48cXXzwQbHWBmG6w4b5Uy98cXzPFz7+8c2+0FasIfxmudxM55UKB0ABH/BW7zalf5q7tk/XE8AIAISaPx5EREREtH14nnrk3iEAcWJ/7RO7E+uuz1Wv3Kh+45n5V6+WqvVEBBw//EkCJ9apWs3UatmZG6M/+F51dLR49E6n9NrRO6Pe3puDsluqbO1frxa/sPkX2opC+FA2+/8ur2zBhd7AZZB8xF/+kL9yzCs/6i/rm3+Dqe2iQ0RERES0JYxW0ABweG/h8J78Jz44cuZC8QcvLR3ak/+Lb0+XqzH3pPlpBJA4zk9N5aemANSfe6Y5MFjdOeaMnv+Zh6G3tEzs9f0tuMpWPKU7M2FGVG2Tr5JB8rC/vGD9nw/mI8hnwoW7TFlky7s8EREREVH7ENGCew73nbijTwQPnxj0PTW3XD/12urfPjk7OV+31jUiTp17a+Hycri83HPxQuJ5hQsXVu49uXbwYFzoQWuwdTPnlGrgsUJ+8x7/lq0ohAIMGD29OQ+u4BScAL+fu/Iv8lcAKB4bSERERET0Zq075HzWANizI7t7JPPZD+9cWG380Veu9+e9bKj/w99ejzhs+FPoKMpPTeanJuuDg1bryr79zb6+0sE7GkNDwKbUj36tvS1pNVs06HkiE25gIRQ4Bdcr8Q7V+Ne958Z1ver0fl3T7IFERERERO+CiIhgx0D4L37zkIhUavHDJ4aqjfi5c6sra83vnVos1xKOHP6kcGkJQHZ+Pg6C4aefXj5xIs7lK3v31kd3AhvZDA+FwUY91NvbomMn1pLkd4ZHl5LkfT5UVuLPB3O/HM5awS5VH9XNPpXiWYZERERERNtKqx3Um/babPW7Lyw8d25lpRRX6zE3LP1pHBD19Cw8+KH6jh2NwaGoUIDI+2yGPvB/zN04FIbb5NiJ1qGKf7z/wL+/ra1lhlTzA97q082+Xw5n/1F2csJUFVcGEhERERFtMuecc7g0XS5kvSdfWvryE7ONpl0sNqKYM0t/nAMgEudyzZ5eGwTTn/xUY3T0ttcZfran8M+vX/VEtlUhLN978rOXr777rxqU5kFT2a+rv5WZftAv1p3O8fh4IiIiIqJUOJRqcTZQl6Yr3z21+NTZ5eW1aLXEY73fWuJ5y/ee9FeWq7v3FI8ei7PZJJd7l18rwDcPTqgXngewBYVw6zZOHfc9X+RdHEjo+iX65XDmoKn9dnZaw/niAOTl/U43JSIiIiKi2yQoZA2AO/YWDu3J/+5n91UbyTefnQt8/VffuXFjsR7FrhlzWuk6HUXDzz4DoOfixZEnn2j0909/+ueafX1xoQfOQeu3+dqsUndnwrNbFXXrCuFdmczJTPh09a2PnwiQhJL889y1Q7paUPFj/jI4L5SIiIiIqP2IiNYoZM3nH90F4JF7B63FwmrzG8/OXbheuTZXXSo2LbshAECc081mZm7uwH/8og2CxuCQ9f0rv/przvOBt96E5s4g6H3bxrixtvRoxZ/v7fnJQjggzTtN+b8rXBpWzUO6yhMjiIiIiIg6SD7jAejJeROf29867/5L35+5sVg/c7G4WGyulKLNX6PW7gQQa1WtZqYmrdaH/+0f1oeH6ztG1w4dqu7Z+2O18LN9PVtz4ETLlhbC3x0c+Fdz85GNG9CHdOUOU/5n2eu7dW1MNwx7IBERERFRJxMRzwiALzw2Bkhi7fxy48+/NZ0N9Teene/JeRenKmlnTJ9KkmB1JVhd6bnw+sALz60dPrJ6/K7a6M4kDCGilfqVvt6tzLOlhXDU836vUP2MfvlMVPiVzGxWEsUeSERERES0vYgIAKPV2HDm93/1oIP75cfGMqH5069NvnB+tVSJl4rNSr3btwgRwKvVBl883f/yS3E2l2Sz5fHxXR/7+H5/i04gbNnSQgjgH43sGl178gP+2hZfl4iIiIiItp4IBDLQGwD49U/u/vVP7lZKytX4P31j6vXJ8txyY3apkXbGlClr/XIJ5VI4P/df7Bv3H/zgVl59qwvhobBQLimg218PICIiIiLqNtlwvX0EnvpnvzzhHBaKjfNXy99+YeHli2sra00RSWz3rjhUwD1HjmzxRbe6ECrdo/3dSfPaFl+XiIiIiIjaRGtOqQh29Ic7+sOHTwy+dq2UCfTCauNPvzZ15Ua1XItb+9N0lTv277/v2LEtvuhWF0IR0f4uFkIiIiIiImpRSu7c3wNg/87cycN91XpSrsWvXS3/xbemJufrpWqcdsAt8sj992fDcIsvutWFEIAfHmqWn+GsUSIiIiIiehOB0aonp3py3s7BzCP3DlbryYuvF7/zwsLUQv3CZHkbn2BhtH7sgQdSuO7WX1KZAWUGbTy/9ZcmIiIiIqKOIDfL4YfvGfrwPYP1pn3htZVL05Vnzq68dq2UbLuD7++9887DExNbf90UCqGI0v4YCyEREREREb2j1nrDTKAfPjH0MyeGPnb/yGqpObfcOHet9Mql0vnr26QcHp2Y0Ept/XVTKIQAguyJqPoysC3+6oiIiIiIaEsIsHsks3skc/wAPnr/sHXumVdWXr5QvHyjev56ebUUpR3w9u3fvTuV66ZTCJUZ0P4ebi1DRERERES3R0S0yIfuGnzo+IADKtX4O6cWL01Vnju3slRs1pudNPjU39Pz0QcfTOXS6RRCEaXMAAshERERERG9TyIiQCHn/cLDOx1cuZZcnak8dWb5zKW1Vy6XOuJgw8ceeKC3UEjl0ukUQgB+9nhUfZl7jRIRERER0cYQCKSQNXcd6L3rQG+tkdSbyZMvLX3n1OLp88V2boYfOnkyrUunVgiV7hUVOFtNKwAREREREW1jmUBnAv3zD+989L6htUpcLEdfeXLuu6cX1yrtdbDh8MDAB44fT+vq6RVCFZjwcFQ9nVYAIiIiIiLqBvmMl894Y0OZiV353/ns+GKx+fVn5p9/bUVELk9XUj/b8NOPPNKTz6d19dQKIQAvvCOqvgik/TdARERERERdIPBU4Pn9Pf7B3Tlr9yXW/fm3bpSq0UsXiuevlVOZUioiH3vwQRFJ4doA0i2E2hsWlXW2kmIGIiIiIiLqNiKitWiN3/zUHjg0I/vDM0tPnV1+7Wppcq62lc1wbGTk0L59W3e9n5BmIbw5a/RUihmIiIiIiKhrCQBB4KtHTw4/et/wylrze6cXZpcaU/O1F18vlmubvgXm/l27smG42Vd5G2kWQgBB7mRUfRlor2WdRERERETUVVpzNgd6/M9/ZBcAa93sUv3ctfKf/P3163O1ONmsQcOPPvTQJj3yu5RyIdSmV+lemyylG4OIiIiIiOgWpWRsODM2nLnvcF+U2MvTlf/n8WsAXr9e3sBNaHKZzKMf+MCGPdxtSbkQAjDBnmaVhZCIiIiIiNpOX8EDMNQb3H+kP7HuS9+fmV+pX5isvHql1Ijs+3zwiT17Bvr6NiLm7Uu/EGp/N6ovpp2CiIiIiIjorYlAa9FavvDYmAisw+vXS0+dWX767MqFqbK9rWIowBc++cmNTvqepV8ITbBXJOscT6gnIiIiIqK2ppQA0IIj44Uj4z2/8bN7zl5cW6vGf/Ht6QuT5Thx735C6djIyCc+9KFNzPrupF8Ilcp4mTub1efTDkJERERERPSutE4ODH19/539AB65d3Bmqf7i68XXr5e//+LSWjl6x7MrjkxM5LLZLYj69tIvhAC0vxMcICQiIiIios5ktNozkt0zknXO/cOfG5+ar750sfjn37yhBMXKWx+p8NEHH9zikG+pLQqh8XdBPLgo7SBERERERES3T0QGe/3BXv/ug72f+/CYUvKv/vj8K5dLzmGl9KO+o7U+cuBAijlvaYtCqHTOzxxvVk+nHYSIiIiIiGgDiEhP3gPw+79yMJ81jSj5s69PffXp+dVS5Gl59MEHJ3bvTjsj0CaFEICXOcZCSERERERE28xwfwAgE+jf+4V9v/aJ3ddnq0ar+drx1irE1LVLIVSmT/SAS5bTDkJERERERLTxjFH9Bb+/4DunTvafTDvOOpV2gHVKBdqkfCYjERERERHRZvMzR8LMSNop1rVLIQQQFh6GeGmnICIiIiIi2kQm3A+0xXxRtFUhBDRcknYGIiIiIiKizWOM3xbbybS0USHU3oDyRtNOQUREREREtFmU6ReV/nn0t7RRIQTgZ+5MOwIREREREdFmMcEBkTZqYW0UBYAJxrmMkIiIiIiItis/c0faEd6kvQqhNn1eeDTtFERERERERBtP9IAy/WmneJP2KoQAlCqkHYGIiIiIiGjjhfkHRNrlKPiWtiuEQf4+SJh2CiIiIiIioo2lVfsdvd52hRBilGIhJCIiIiKibUV0QZt2OY/+lrYrhCLi506mnYKIiIiIiGgjBdkTotprvijasBACMMEEoNNOQUREREREtFGUCcbTzvAW2rEQatPrZY6knYKIiIiIiGiDiNeGCwjRnoUQgKhc2hGIiIiIiIg2hAoLD0tbnrjepoUwyN0H8dNOQURERERE9H6JyvnZu9JO8dbatBAqlRGVTTsFERERERHR+yU6377NK+0AP4VIkL0XkLRzEBERERERvS+ev0ekTatNuxZCQPs7045ARERERET0fml/LO0IP1UbF0JvRHu70k5BRERERER0+5QeMH779pr2LYQi2s8eTzsFERERERHR7dP+mKgw7RQ/VfsWQgA62MO9RomIiIiIqHN54aG0I7yd9i6EuscEE2mnICIiIiIiuh2ie02wL+0Ub6etCyEApfJpRyAiIiIiIrodWveLtHXnautwALxwAtBppyAiIiIiInqvdNj7WNoZ3kG7F0Lt7xSVSzsFERERERHReyMSiGTTTvEO2r0Qihjt8UBCIiIiIiLqMMobVrp99xdtafdCCMDPHgck7RRERERERETvngS5k2lneGcdUAhNsFeZ4bRTEBERERERvVuisiYYTzvFO+uAQiiiTMjDJ4iIiIiIqGNof5dIB+yO2QGFEIDxdqcdgYiIiIiI6N0KsifSjvCudEYh1N4wJEg7BRERERER0TsTXdB+Z4xpdUYhVDrrBQfSTkFERERERPTOtNnR5ufR39IZKQFobzTtCERERERERO/MBPvSjvBudUwh9DKHOGuUiIiIiIjanudlDqed4d3qmEKodN7P3p12CiIiIiIiorejzICIn3aKd6tjCiEAL+QyQiIiIiIiamt+5kinLCBEZxVCUXmgA47yICIiIiKiLiWeCfanHeI96KRCqHSPlzmSdgoiIiIiIqK3ZoL92htMO8V70EmFUER4+AQREREREbUt4+9NO8J700mFEIDyRiBe2imIiIiIiIh+kjb+WNoZ3ptOK4S6x/idNCWXiIiIiIi6hPH3KjOUdor3psMKoYho00lTcomIiIiIqEuYcL+IpJ3ivemwQgggyH9AVD7tFERERERERG+iOnDsqvMKoShP+7vTTkFERERERPQjSg8af1faKd6zziuEAIy/J+0IREREREREP+Jljop03qnpHVkIvcwhkUzaKYiIiIiIiFqkQ49M78hCqFRG6Z60UxAREREREQGAqIyojhyy6shCCEAH+9KOQEREREREBABe9m6l/LRT3I5OLYRB9m7OGiUiIiIiojag/MzxtDPcpk4thMr06HAi7RRERERERNTtlBlSOpd2itvUqYUQgOIIIRERERERpc0EEyIm7RS3qYMLoZ+7RyRIOwUREREREXU1E3TwqXgdXAi16TXhHWmnICIiIiKiLiahNoNph7h9HVwIAShdSDsCERERERF1Lz9zrHMXEKLTC6EXHgIk7RRERERERNSdRPtjaWd4Xzq7ECozCJVNOwUREREREXUj5Y16HX72QWcXQhEJ8w+mnYKIiIiIiLqR8Xd17v6iLZ1dCAF4wYFt8CyIiIiIiKjTGC84lHaG96vjq5ToLHj4BBERERERbS1RGePvTDvF+9X5hVC0nzmadgoiIiIiIuou2huBdPwOlx1fCAF4maPca5SIiIiIiLaSty3GpbZDIVRmgHuNEhERERHRlhHd54V3pJ1iA2yLQqh8f1v8ZRARERERUUfQZlA6f74ogM7eI/UWP3eyWT0LRGkHISKiDeHgAAACOAfnIAouAQBRrWUCUl9xXg6ioAxsDDgoDy6RZhmwEjdsZgiiACdRBco45UNE4rrEVRv0QRlYC6XhrNRXXNgLBzgLOIiC9hDVxMYu6JH6itjYZocR18VGTrQAzsvCWomrzoQS1ZwJoQxcAucggOgfrWXYFrcLRET0ZuJn7047w8bYJoVQVE50ziWraQchIuoyLoEDRKSx5vwCRAGQ5prTvileTfK7dPGK8/JJzziUNgsvqWalOfYQXAybeAsvO+3HQ3dCtF67Hlz5erTj3iQ3alYuxv0HveXzSCIX9ns3ftjY+1Fv+TVVmYP2o4HDSX7Mn3leFy8nffsladYP/qJZfMVmh212xJs75c08J0kDztr8aHPng0luNJj8nvWy3vL5xt7HzPJ5iI6G7/YWXnLKS3r2qtqit/hKUthrM33Oy3mzp2xupLnjfl1fDK5+Oxo66i2+khR2N8Y/qYuXJK7GPfuCqR80xj+mK7PWy/szT+vSjcbEp+LeCbNwRldmJa7XJz5lVi40xx4yy+figaNm+XxS2CMuciYLZXTxijQr0dgD3vRTujLnjN/c/WHnF/TqZRv06tJUPHwX4CBaGmvOy8I5aRZd0CtxzXk5QG6+4ZBE0D7gAGHzJCLaMsoMmWB/2ik2hjjnNvsa3/3udwE8+uijm3qVRvlUvfSdTb0EEdH24RJAQYC4AWWQRFBakuZ6zbCxNMt67Vrcf4dZvZgUdjsdqNqyP/OM87KN8Y+bpXOqMtfc+5Fg6om4Z1yXp/ypH8aDR21mwGaGvLnTkjTM8vm4Z69Zuw7R0eBRG/YFN5522k9691sTStIwS6/BhE5p5+VVbUnFNQdxJlRxzSkPNnY6EDhJGg4KcIATwLWGB+EAOIjAOVFwFkBrPPHHWtH650AE7s0ff2/bkd28yvrVbz7W+hWdKEDEJU70zTBwXlaiqs2OIKqI0hJVkuywiqqI6zBhEg7p6pxEZQHi3Gg8cNhbfAVwqlFq7PoQAJsZ8GeeT7JDUEbVV51fgEucyerydDR0POmb8K9+U5JG7dDnYELYyPkFb/Z5iWu6uhANHXfaN2vXouG79NqkC/psUHBeXpolmx2RpOH8PJImnIUOINIaSuUObURE75KfvT/T+5FNvcTWdChsq0JYPVMvfn1TL0FE1KbWf5M7uASiEDcgCjoAABdLs6yqS6Z42YZ91u/Rldnm2IOZc3/mvFxjz6OZ838ptiFxIxo65s2dbow/JnHTW3gpKezxZ59Nsjt0ZdZ5OZsZVI2iaqw6wIb9EtfEJhCBjQFAVOsN9onN1iptDgIRcdYBEA1R1i+Ic6qxsl6AdeDEqLhiTUbFNWsyUCYp7NFr1xpjH/LnTsWDR8zy+SQ3GvcfsplBb+Hl+sHPqfJ0MP1Diav1/T9rsyOAIGnAL0hjVWyCpG6zOwBAaaA1d5eIqEvlBn/L+Ds29RIshO+Zs83S4h9z1igRbR/OwjmIvlnzamZtMsmPOuW17sXN8uvOhElhly7dsNkRvXLBFK9K0kBSByQeOCxxTVUXxcVm5aJEZWB9IMhmhlR1AXBOB5I0bw2dcYSoe9z6u16vlM7asF81y7BNAeL8mNjYmkw0fJeI9mZf0NU5J9pmBptjD7qgR69eiUZO2NwOVVvWxau6NNnY8wiUD8CZEF6IuAE46AA2gUtgwlSfLhHRRhKVLQz/jqhgU6+yZYVwm6whBCDK94L9zerptIMQEb07SRNwqr5qW0vvlNGrl52Xs2E/dJA5//8hqjZ3P2zDPl2Zh4ulUQqvfctpLynslmZZkqYuTzs/b/0eVV+G8qS59qMZjIC/9OpPXNK19mXR1fnW+5I03vjHbIPdQ974Ruu7or58609N+QYADXhr197wJZEqT+vX/woicDaYftJmhiQqSbMCUWb1ctx/SBevxEPHrJf3Fl52fq6x96PB5b831YXKsd9S9ZWkZ4+qLiYDh1RlHi4SZ5PCHoiCc3AWzkIZroQkovan/T2b3Qa30vYphAC0PwYWQiJK161pF87CRqq2rCqzycAdUluGiPPzmdf+PBq+22aGw0uPJz3jZunV1tqwuO+gt3hWNVZtdtgG/bp4WSVNb+lViIaLf3SPHL3pxl2aJdUsAQBqrauuf3xLnit1IYFb/ya3ka7MrH/UJbq2oGsLAMytDwLe4qviEgC5s/9RkkaSHZFmKenZa1ZeB8RmBht7PmJzO7yFM2bxlbj/YGPfJ1R9RVVm48Gjung16TsIpeASiIZNoAzAXVuJKH1eeDjtCBtpWxVCE0yIyjtbTjsIEW1r6zM5ReK61JdVdTHpHXd+LwRm4Yw0StHoSbN83lt4xYkypeu6thj37le1Jac9KKMrc2b1MkSJjUx5GgAaq7g5JgNAV+Z0Za71tsDBxSk9T6L3q9UGAahmEYApXQegF1bWP1iqmlf/5NZ+P7p8w595zga9qrFqsztUdS4ePOJMNinsMiuX4v5DZukclE7CQV2drR/4LLRv5l+ORu6GDqANHNarIxsjEW0mkazxd6WdYiNtq0KolK+9nXHjQtpBiKjD2aS1S4o0is7LeUuvxL37nMnq4jUX9MJG/syzSc+4f+MpVVtScTXu3Z9khqRZNmvXJKmHV/5ebCQ3t5oEYIpX3vjw4hLcvFEm6nLyo2FtJ3FVxVUAau0qAH/uR7N+vMWzSBoAPACArswn+VFv/mVv4SWbH0tyO3Xxmgt7myMnwmvfdsqLRk/q1ctJ3wGnfZsZXD+WQ3nr28QSEd0uHexTOpt2io20rQohAC9zhIWQiN6Zs+uDCQ4SlZ2XBcSbfwlxXdUWkt59Njtils7rtatw1qxcsOGg87Jm7aoNB1VjRWyMmWduPZgpXnlj5fuxhXlE9P792I+Vrs7p6hwAb/USVi/d2nw1uP4dsZET7c+fRtKAGKe9uGfc5se8hZeT/Fjcfyjum9CVWZsfk+ZaUtgD5SGuwWQhgLPcPZWI3p72htOOsMG2XSEMJhp6wCbL7/ypRLS9uaR1XJyqztnsDr02ab2s8wuAU5V5s3rJZgacl/PmXzQrl+K+/Sqq6tWLYhNxiZt64sdW7qnqbOuN1iopImorsv5fBxuhNQifJADgYoljf/k1LL/mAF1b9BbOOC8PF4uNYePm6AdsYZc3/1J94tOqtuhPfr+58wGJq809j0AURMFZiWvOL6yPMRJRlxN/my0gxPYrhKKMMv0shERdJGlC+626KVNuAAAgAElEQVRdLlRlzoZ9EHjTz3iLZ1RUi/snvPkzjd0/4888D2edl5G4IVFFbBMQuKR1f6dnl974kFy5R7T93CqNEpVufTCYfdbNAkDu9B+2dujVF78EiLdyIe6b0GuTcIku34iGjiV9E3AuGr0PEGkUobQzWSjNokjUVbQ3qk0h7RQbbLsVQgBeeEfcuJR2CiLaWA4QJBGUgbOqMmszg2bxFW/ulGqsNXc95PyC9QuZ83+Z9B1Q1QWzch4QgVPVOQEyV762/jCNlVSfBRG1nZtl7kdLGQH3Y/PAg9nn3ezzzmTN8uvOy+jSdJLbYYrXaoe/EF76u/rEZ5LecYhSpWmb37l+fobahrdYRGS8nWlH2Hjb8LeVl7mjXvq+s5W0gxDRe+daOw5aQABRlVkb9Kj6cnj5a7U7Pu9Pfi/acVKXpzMXvpRkd6hmUUUVB8m8/lcCOFHi7Bu2vHfg3hFEtEEEkLjqL7zUeleXJgXIvfx/w8aZ83/hTAjRkjSauz7kX/9e7cg/UJU5VV+Oh47ZsF/qqza/U5ImlHF+Pt0nQkTvg/Jzd6edYeNtw0IoYrTZETcvpx2EiN6WcwAkrqnyDUBs0ONMTq9dhUhw7TvRyD0SV03xiiQNXboBl+RP/6E0VoPpJ1sdz1TWD2n40RaFb9jVk4hoU61PQLUx8KajQTMX/gatogiIs3bulPUKurES50YlaUBM9e7fNQsvSRIlvXut3wOTdV4WNobS3M+GqM1pf7eobfiazjYshAC8zFEWQqJ2oyrzzgTO74GLwwtfEhs7iCQNb/EsnLOZYYiTZgVwKq55xR//EZbGaiqxiYjeq1uvT6mooqIKAG/tGgAHyT/7v0pcBSQp7HZePsmNRCP36LVr/vRTzV0PRTvu82efSzJDSe++9dXR2kvzmRDRG/jZu2Q7vnCzXQvhwdpaAMed34m2XGvcr1F0QS+iij/zrA364pF7zPxLmYtftmFfkt+pqotm7RqcxRvG93RtPs3YRESbr3XWIgDAmdIkAG/5XDD1AzgncPryV4KpJ3VtwXq5aOBoPHjYrF6Ke8ZtfqcNemEyeu160jsO0ek+C6IuJaEJJtIOsSm2ZyEUMdr0J9Fs2kGItjXnkDSgPNimJIkuXkkKu+ASFVWCi19ujj3kLb3qLZyBMsn0k7o0Kc6qqNS6ByIiopZbw4mSNFsH26ioEsw9H8w9D8C/8YwNem12B1ys1yZrx34r7t2vi1dsZtCFA6q+bHMj6y+scbNTos0kKhTZniP227MQAvAyx1kIiTaMSwAFG6nqgiRNf/L78eDhJDuq6su6Mqcaq9JY05UbUJ5EFbhEnPXWrq9/rY3N2rVU0xMRdSqB041VfXPOfPbsF50OJWkkmSFxNu7b39z9iCQNs/SqM9nmzvv96R9Go/e7sB9RFSbDlki0UbzwkGzTH6htWwj9zNF66Qm4etpBiDqQS5DEqlmCi3XxutSXvaVz9QOfVbX5zMUvOx2qqOwtvbq+jSe3ciEi2iribGvSqanOAVC1RX/mecACgPK8+dO6NOXPnaqPfzy4/t0kPybOJvnRaOcDiOsQcZkB7r5MdDskDPMfSjvEZtm2hVCUp3S/jWfe+VOJuplzcBZwunhVF6+5sFfqK3CwYV/m4uOS1OFc67Dm3Mv/F5wVQGwZgLgk7ehERN2udWri+js2MqUpALq6kDv3ZwB0ZQYQb955i6/oylxjzyNJz7hZPNsce0hV5uKBO+DlAAEsNzglenuiwm083r5tCyEgYc8j1eU//9EvSiJyrVsHkdqSqq/o4mXn94qNbFAILzyumsXWK8cC537iNWSOBBIRdRYBWndBZu06gODqNyBaXOLNvwTn6vs+YQu7nPLN2lVprDb2flRs0wX9N7942977Et2GIHdStu9+Ttu4EELrQtoRiNIWVSSJnPKgjDf3ggv7k+yIN/OcP/+iU56pzLibDfDmF9w80y+lvEREtEkErQXhUHENQPbS4w6AKDgLUaZ4zXo5mx1p7vygqi8l+d26NOX8vM3vWv+HghWRupdoM5h2hk20nQuh6LzoHpcU0w5CtAUcrIXSSBq6OKlqc0nPOERnXvvPEtWS/Cic85bOQRnYuDUFtEU4hE5E1K0EaJ0ABGfXd/9aejWY+gEAG/SoZiXJjTZ3PajqK9Hgnf6Np21mKB660ynj/AKU4URT6hKie7Q/lnaKTbStC6HosPBobfVLaQch2mjOAYBLVGVOGsWkb39w9VuqUWyMf8ybP+XfeA4uhjISVVsr/XR9af0LbZReaCIi6gA3/+FYAWBK181r1x0QXP8uADiHa9+I87sgyplskt/pvDyMHw2fgAjUdr6rpG4W5D4gsp2/vbfzcwOgzUDaEYg2SGv5X9I0q5edMk4HZvl8eP07TnlJfqdZvQKBt3hWWPmIiGhDCd7wemICr3il9aZbPAMAoryZ5212pLHnwy7ogRg4CxE4C+VxoiltA8r0v/MndbJtXgiV7hE96JKld/5UonbjHJyDbaraovPyElX08gUVlYKpH9jMkDTWJGkInNhIrV4CAHdz5g8REdHmW696znqrF7F60Zt/0QU9TodJbkc8dMwsnI37J3R5prHvk1A3d+PgKCJ1GuWNGm9n2ik21zb/sRRlwsIDtdWvpB2E6G21poDCqeqi9bLhpb9Nesad8szqJcB6S+fhEkkarVMfAOjqfJppiYiIfoKKq2idkbh2NZh5BoA/97wT7UxGoopZuVS56x+K9qS2LHASVeL+O6AMhxCpzfnZE6K8tFNsrm1eCAEYfxfEwMVpByF6g/X5nzFEpLEicV3imjf3krf0StK73yy+itkX3rj1CxERUccRZ8XZzJWvtt4tnPoDWAs4SZpwSXPHyebYQy7oUdX5pP8QWnv6sx9SmxFs/82Ttn8hVLpH6T4bL6YdhLqbjVuH/0qjpOpLevVqPHzcmz0lcVWXJlWzdGsDGLV4Nu2sREREG081y29815875a1ecsqoZqW+7+NwNho+oWoLqrYcj9ztTAjR6ydeEKVEVN6EB9JOsem2fyEEYLzdTRZC2lIOziGutQ7/tdkRb/b5aOcHvdnnINqsXVOVeVz7lnDgmoiIupUA0lg/Gyxz6W8dEEw9CduQuJFM/7Ax8Snr5W1+VNUWnd/jvBxEcfyQtpgJJpQK0k6x6bqiEPq5e5q1M0CSdhDa1pxFEklcM8vno9H7/WvfFueCa1+HKChPkoY/d+pNh/5xAxgiIqKbBJDmej801Vl99o8g2mYGVG0pGjgc7fyg8wtm/qXm3kedDiACm8CErIi0mXSQvy/tDFuhKwqhMv3KDNh4Ie0gtL3YRJcmbTigKnMS1yRpevOn4ZxZed2be8GsXRcbA62i2ACPgCciInrXBA4ubm2i5i+96i+96iCAM6VJJ9Lc+1hw5WvR4DFnMvHwMWcyrZdf2Q9pA4n4SvWknWIrdEUhFFHaDLMQ0vtlE8ABkMaqCwZUZSbz8n9wfl7XFgHA2VuVz1u9nGJMIiKi7af1j6wpXgFgVq8InC5NAZLMPheN3hf3jHvzLzoTNnc/AhMC3J+G3i8d7JHuOCilK54kAC9zJKq/mnYK6jTOAlC1Jac8XZryJ7+b5HfBhN7CK06g68uSNBFX0k5JRETUXVrlUADAmfK0vngD2kMS27BPrLXZoaRnj6os6PKN5tgDTntQBnr7rwSjjeWFR9KOsEW6pRBqf0xU3tnyO38qdTPnpFnS5Rtx336IMUvnENdN8aqqLeryDRVXveLVtCMSERHRmwgckiYAXV/W178FwIkCWtN6YBbPAFKf+HQyeAQ2gY2gfXTHyA/dNtF9XrA37RRbpFt+GJQK/OyJRvnJtINQ+3H25ouM1sy/FF56XMW1JByCNqpZVo3VtPMRERHReyM3d24Lr32j9Ub23J8luZ0S15Kevd7K6/U9j8YjJ5wyEA29zY8dp9tg/N3SBfuLtnRLIQSg/Z1pR6A24BxcAtF67Zo01mx2WNUWYRNdmtaVGb12VcV1AKY6m3ZQIiIi2jAqrqniZQC6MiNA5vJXoqVzycBhaaw1dz/slNblG0nPXmgfsv0PIqd3IMbL3Jl2iK3TRYXQ+GPKDNp4Ke0gtLWcg7NwFsqo1SvOz4eX/z7uP5i59DhsAlFv3AyGiIiItrfWVjOSNPzl17D8mgO8+dPOyzoTNnd/RNWXmjvuhZdHXIMJAeHmNF1I+3uNvzvtFFuniwqhiGf88SYLYTdwDjaGs5LUg8t/L3Ej2nGPRLXw8t9Be6qx5i2eWf/t7ng6JRERUfcSQDdW0VgF4K1edoA381zcN5EU9tr8DlVfsUGfLexCEsF0ywRC0rpfuumFgC4qhAC88GCzehocDtqWnJOoAmdVZda/8UxS2K1Lk6Z4VZolAN7Sq3CJAIhruPnqIBEREdEbCWAqM6Yy4+QpOAA2ye1Mever6oINCo3xj8NknPZUfdXmdnDwcLtSpi/tCFuquwqh9scgIVwt7SC0QZxDXPeWzsFGujSt6kuAwEbe6iW3+Arg5NYAIEcCiYiI6F27tS3Nej9svb16xWaHoYxevVQ/+IvR6Ek4QCnOLN1ejBdOpJ1hS3VXIRTRJtgd1y+kHYRum4ODRBUAiOtQ2p/8fjD1BEQB7tbvbgDi4tQyEhER0fbSanu6saIbK62PZC78lT/9pM0MJL37zfKFxu4PJX2HVH3JZgYhmv2wc5lgn6hC2im2VHcVQgBeeJiFsONIowjRDg420WuT/twLqrGqaovSWigIxwFAIiIi2kpiY1OeRnkaC2cAmNVLzaFjunwjHjjcmPhZs3pZmqW4/5Dz8jzWorN42eNdtYAQXVgITbBXdL9LVtIOQu8krqn6ill6zWYGdfGaWbsO2xQb6+p82smIiIiI3kRsM5g/DUBX572lVySqSlyD9htjH2qMf0yiissMwsYsh21PaTOYdoat1nWFUKmMFx5qVp5NOwi92fq+oLE395IuXW/s/Wh44UuS1E3xKkTgHE+GICIiovYncLp2c0/7pBlMP+Etv+aU19z1kCrPRqMnbWZQbOz87pqU2Cm0N6Z0T9optlrXFUIA2htJOwIBAJwDgLgKk/VuPAPAaS+88lUVlf2502KjN30aERERUacRG+vKLADz2qTTvrd0zvl52Lg+/jFv+ZzNjEQ7TgLOBV1XQtpTUHhIRKWdYqt1YyE0/i5AA1x1lhLnAKeqi85ZgfOnn3IiwY2nAbm1E8yP2iARERHRtiBJU9cWUFtwQO7sH7U2nlGVWbN6KRq5t7HnEWgPyuOGNOnR2gyknSEF3VgIlc772bub1dNpB+kazgFQ5Rm9djXacZ9ZPAvR4aW/E9uUuCocACQiIqJuIgDgWjdIwexzANT0k7o87ZTfGH/MmdD5Pesb5nnZNIN2GWX6ROXSTpGCbiyEALS/GyyEm8q59d90zklcDV//a12ZVbXFYPIHqrECG/O1LyIiIqIWSere8msO8JbOOi/XHL7bWz4PG8dDd0J0Y/xjzsvBWSiddtLtLCw80m37i7Z0aSE0/i6RjOMJ9RvOWaktOb/Hm39R4roN+sziWVOaVLVlgQWgawtpRyQiIiJqRwLAWWmWwuknWx9R0z8EYE1GnFWl6frRX3XKAyx0yJmlG82o7ttftKVLC6HSOR2Mx/XX0g6yLTgrcUPqK6qxGlz7FpIGtK/LM1wHSERERPR+tDpf5urXHQBRcvY/SlyVuF49/tu2sEeislMelMeRw/fPBONK59NOkY4uLYRYP6H+PHiYwW1orfqzkaqvmqVXk8wgxISX/lbFVdUspR2OiIiIaLtpDR56xcutdzPn/nPSf1CvXpa4VjnxezBZiWs27IP2U43ZwUywX6RLe3UXF8JgvCY+XCPtIJ3DWbN03ga9EtfMygW9cknFFV2dd6IAEcddW4mIiIi2gqnOmepc6+3cmf/glKdqi9Ho/Y29jzq/B85CGQ4bvhdGezvSzpCa7i2EEK3NYBLdSDtHe3MWNgLEm31eVxf86aegtFO+RKVb89bF2TQTEhEREXUxXVtsvRHceEoXrzodRDs/CBer+qoN++Ph485kWQ7fnvZ3GX807RSp6d5CKKK88DAL4VtSpWlVX4kHDiOuegtnzMolXZlVtQUBkMSScFiViIiIqO2YygwAs3YNEIF1gLvy1erRXxeXOOUn/Qe5Fc1bUro37Qhp6t5CCMAEe6WSdbaadpC2IPUVF/RKsxxc+5Y3/yJE2cywaqyq+nLa0YiIiIjo3RK41jYZAkhUCa98VdVXnMnWJz7jTKjqK9HofevNUFTKWduCDgsPpJ0hTV1dCLU3ZIIDUe1M2kHS4yxsIlFZVeYzF78cDdyhS1OmeKX12hF3iCEiIiLqdKY0BQBRJfvKHwEqyY047dvsiDTXkv5D0iy7oNDNzdAEe5XuSTtFmrq6EALwggNR7Wy37TUqzZIzOX/yu0l2RJdnJK4EN56BjcKbq5OJiIiIaJsRALCmMmte/RMHgTKNPR/RxavNXT9jVi82d34QIja3s9umlSpvJO0IKev2Qqj9HYACtvsOmc6pyqwN+6E8M/9yePVr0eCdwfSTEMXTAomIiIi6jcDBRuG1bwIwxStw1qy87nRQPfJr/uzzzbEHXHYYzm3/cih+kL037RAp6/ZCKCrU3q4kup52kM3hEsR1/8YzNhzInvtTmxmyQa9ZvSwu0VPfX/8EIiIiIupircPDdHUBQOGFPxDb1KXp5s4P+DPPJL37o6HjNr8Dyks75qZQulfpXNopUtb1hVBMkLunurqNCqFzsBGUQdIML/1tNHQ8vPxViIizujqvq/Np5yMiIiKiNiW2CcBbvWBWLwLOrF42i69Go/c57Uc77gUE2t9Ow4YmPJh2hPR1eyEEoEw/IB2/jNA52FiXZ8ILfy1xLRo4qqtzZuWCN/+iwHb6kyMiIiKirSTrt4/OVG7oSzMQJY1VOAdl4pF7EVdtz14AnV4OveBA2hHSx0IIZQa0tyuJptIOcluSJkSr0jSUUdW5zMXHpVkSOD39g9afS1xPNyARERERdTSBg0sy174FwAHJ4iuwUWP8Y2b5QnPPh212BKKgdNox3zORrDJ9aadIHwshRJSXOdpJhdA5VZrUxas2O2KWzruwP7j2TbERbCwcCiQiIiKiTSOAKU8DMOf+zAE2NyILZ+OBQ3BWbBIP3NFBY4Ze9i6lgrRTpI+FEACMPwYYIE47yNtziBtm+XzSuy979o9Uo+RMRuIK1jcRJiIiIiLaOgJkLn8FgJ36vtjYKa9693+VZIclqbtwoP2boRdOpB2hLbAQAoD2hrS/O2leTTvIT7AJIKq+5N14Ou6dMGtX/RtPi3NI6gK02iARERERUYpU0gAgSZJ78d8m+Z1OeUn/Qb1ysTHxGbgk6R1vw01KRbJKc74owEJ4izYD7VQInTTL3vQPzcrFpLBX1+bN0rlg6gfibNrBiIiIiIjemrjElKYAmLWr4pw++0WJa43RB+Kho0nfAXGx89rljAc/d0LpbNop2gIL4ToTHmpWT6WZwDnEdb12zQW9zsvmXvx3qrogcF7xys1PYBskIiIiog4gzgFQUQVAMPu0P3/aZof+//buNEiO8zDv+P/t7um5d2YWe2JPLO6DxEIQKR4CD1EHrYsL0TRp0RFJxbGr7MShHStlV+KESUmJK0cVKmVXEleUIHIkpyRbhA9ZdiSLEEVJlEQSIEUSFEnc997X7M7ZnQ87IAmaIBbAzPbOzvP7hGnMdj8AFsA83e9RjrXlNj1gcuO+m8CJBJvQDnUGG2D5UCGscEJttttdLgSxtIxXtmZOhk89VWreFD76N1Yp5xtjleYDSCIiIiIiUlXG9005Z82csmfPWPlpKzeR77ndlOb9ULS4+mZ8b+lXKLWcVsftWuKLLlsqhBXGcsOxHXNLVgh9z+QmnIkj5aYue+poaPinzuTroeHnF5YJXe4zcEVERERErpDxvdDk60Dsta/7GC/aagqzpcwGU5qzyvniqs1L9tjQDnUay12aay1/KoRvMnaNxzT7vinM+nbIyg5jTPSVr9nZs1gh4xXeeEdtA4iIiIiILAMG354fjhz7fxz/jh+KmcJMKDUwd/0jeCVsF7u2bU2PB99KhfBNltNm7IxfnqjyeX3fHn8Vr4zjhk981ws3OWOvWIXpyp6Bb7ZBEREREZEGYgC/ZArTgDN1OPHsH3jhZK7vLqtcsCePFTt3epFm7CqvUGo5raHohuqes66pEL7JskLh+I7c9Heqczrft2ZOWfkp3wnHXvqSKRfAgKfhoCIiIiIib2PAnjtnz51zJo9ijPGK4TM/yG57qJzqM6U8lu2HqrMoqO1kjFEJepN+Ly5Shd1IykU7e8Y9/oTxfXv6mCnn8b0L20VoRKiIiIiIyLsxfmnhU7Mp52Ivf9mLtXh21JRzc9seJhTBK2OFrmXXe9vtr1bUlUGF8CJ2qMNYSd+bubIv831TnPNDUffkk+FTT3lOxMmeq01AEREREZFGYRVnralZwDdW/OB/NV653NRTjjTjRArduzAGY13RCY2VcmNbahO2XqkQXsSyo250az779CLfbwqzzvALGMInniw3dYfGXjblgpWvaUYRERERkcZifG/hiYs1P+JCOZymlCv03mlKc34ogVciFF3MeWy305il3uVimVMhfDsr1HqZd/g+eBTmTGkucvivQ2Mv+3bElOft3OiSBBQRERERaVALQ0Xt/GTk+Lfd4YOmXPDtsO9EcwM/V073Y5x3H03qRjcuTc46okL4do7bgwnj/73HfL5ncpN+KG7Nj4bO/sQded6Ui5TzBt+UtYm8iIiIiMjSMWDPV57H+BA99JV8z52l5g3OzMli63XYYeDvlUPbDnUsddBlT4Xw7Sw76oQHSrlDlZdzI34o5jsxMzcaf+GLWLaVGzdeKdiQIiIiIiKywIBdmIkd/gv/aAjfc8YO5Xvv9OIdpjjrh1NvzDN0wj3GqvHG43VIhfAdhOM7yrMHfDtsTx6Ov/DFcryjnOwOnX/WKmvPQBGR+mUurPZsLlr22diVuQAiIlLnjFcE3JEXQuM/K6UGTGGmnOr1nVi+7y4s2wlvMNewPOlKpUL4DhzTFDv0p4XMQPj4t41XdGZOOjMngw4lIlIvDPgYB79UmethLHwPfEIZvBzGwnIpF2i7g5mfUZ7HTeM2M38ON4VfJrODcp7Z14ivoTBOpJNoB6U5nBj5MdwMbjO5s4RXUc5hhQm3kDuH24xfIrGWmdcIryLcytwpQknyo0TaCSXBwk0xd5pwC3OniPdSmMD3SKzBchl7Bq9AtAO/TGECJ47lUs4DhFLkz+OVcDPMn8E4WDZeER/iPUy/QmEKJ4qTpDiN5ZAfxY5gxxh/Di+PHaX1/QzvpzRHYQwrjFfCL1Kcxo7hF8mNYIXw8vg+XpFYF9ljGBuvCP7b66uIiCyCKedD44cAZ/aUbyzfL3utN7idm4LOtRypEL6TUNwJ9zmvfT3oHCIigTAAVhgvj7GxI1gubpr8BOFmSrMkBijncOK4zRiHWDexbspzuJnKwVKWVTcw+QKhDOFmnARekeIUqS0UJwmlscIUp4i04xXAx9hYoQtX9y8sGbC0Mttre/7Nv1X5ge9X5rQszD4wFsUp7DilWSwHr4SbYvYYeMydxtiUstgx8iP4ZXLnsaN4RUozFCYpTFCYINYDPqM/YO4UxiG9nfwws0fAIz+BXwYwBr+sbikijcn4XuTEE5STZmPo8u9uPCqEl7DuVzj950GHEBGpije2abIIpYj3kR/FTQM4MdLXU84RacWEKM+x6kaS6/B9Yt1kj+GmiXZjOdgRSnOVNuIsamlvmt5pJbeF60LlJAuT/t+WdmV7Y7SSdeG/YDcDYDe/+Z7kWoDk+is7s+8BlT9rr4RfJjdMcYryPOEWssdx08yfxQoz8ypeiewxvCITB7Ec8mOV56WFcSyHUhZ8sPDL6pAisgIYDOt/LegUy5QK4SW07SLazfypoHOIiFyCsbGjAE6MUArfJ5QgsppQAsul5RZKWbjw4KvyTC9KuA0ndmEMJ5fZzzfWddHLUBLeUmNkuXnrn6blgEO8B3oqRxJrADKDAB0feIcv931KWYxFcZrSLKVZrDC5cxSnyZ7A2Hh55s9hOeSGyZ7EWEwcwPcoTleGvHplKNf6VykicjWsCOnrgg6xTOn/9UsIJen4AEe/FHQOEWkoFnhgsMNgEV2N5ZLcQNMGirNEO0n0kxsm2kG4hXAriX58DzuGMVgumHfffOki714FpQEZQygB4MTePJja/G5fUprFuJRm8IqU5siPkhtm6kXcDIVJ5k7h5Rn7MX4Jr4BxKE6TO1cZxSoispTS24i2Bx1imVIhvLRNv8nRL+tmp4hUiQGD7eKVMTbhFtwM0U4ibdhRmjZjh0lvxTgYm+Q6/DLh1sr8OpHlyUkA2KsqL5MDAN0ff/vbfL8y7tQvM/0K+VFmj+Ak8ArMvE5+nOlDRDsZfZr8CF6J8hzGVB5ii4hURf8v6v/TS1EhvDR3FZaDp0IoIotkMA6WQ3gVyc3Ee5h5jeYbiHdTmGb13VgOkU7wsUK4mbcsoyKyohnz5nqzC0O22u98h7f5PsVpvDyzR7FCTLyAm2biOWYOU5wkN0K4lYkDlGbx8njaCEpEFs2O0D0UdIjlS4Xw0uI9tN3GuW8FnUNElg07iu8T6wJDeY6WW4n3kRjALxNpJ9pGrA8nprIncjWMwU0BRNoAmt8D0HPxZ7iF0liaYfpVvAJTL9F6KycfZ/hJIu1MPs/8OYyFV9ByOCLyptWfqMyjlneiQviuNv2mCqFIw1iYfedjbEJpnAThZtxmrDCZQVa9FydJahO+R7QT38Nyr2DCnohUxUJpdFPEugFW3w3QclPlZ70C+QnKWUpZijNMHACfkaeZP015HmMzcYByQZNBRBpO/wNBJ1jWVAjfVXI9lqtxKSIrjkhaAd0AABcRSURBVAU+doxVN1LOYsdJb6PtNiJt5EZIbSYxgHEqYztFpF5Y7kWLRrTeArDhH1de+j7FSbInKE4zcxhjGH6K7BEsl4mD5MfAx/dAcxdFVhYnQaQz6BDLmgrhu0quo+/THN0bdA4RuToGN4O7CjdFtBO/TP+ncTMkN1KeI9JGRAuOiTQMs/APQgagbRfAwEOVn/JK5EcoTGKFGHuW7DG8HJM/ZeZ15s9QnsfLg9ENYpG61PVJWm8OOsSypkJ4OVs+x9E/1vASkeXKYIXwPdxm7ChNG4h1k9qKHSPRT7iV6GoiLZiQhneKyCVZDtFOop0AyXVvHvd9/DL5YUrz+GXOP4FfojDB+SeYfIHiNPh4xaBSi8gimMp+vHJpKoSX43sYo3npIsuDRWhh+lAPlkvn3WS2k96K7xNKVfZbFxGpFmMwDtHVlZdNGyo/2PYvKc1RnKY4RfYkxSlGnsJyGXmK/DC5UYozupUssizYEfofDDrEcqdCeDnpbXQPcfJPg84h0jgMlosVItqFlyO5kY4PEUoQ7yWUIrMDy8XSv10iEignhhMj2kHTRoDeeyvHywXK8+RHmXie3Fm8AtOvUsoye5i5U8yd0hxFkSXVtPXNezpyCfpQtQituzj5Z1q9WqT67CjGIdxCehszr9NxF24L3R/HChPtJLzq8mcQEVlWbBfbxU2RXHvRcd+jPE/2BLNHmHieiWfwPPwyI9+jPK/ZiSK10jOkOSOXpUK4CH2/wMv/nty5oHOI1DkTwnZJrKf3XnxDoofuT+GXcBJ64iciK5yxcOKkNpPaTNfHLhz1KUxRmmX0h5TzjHyf/AizR5g7RWEMDL7GnYpcC4sWLSdzefoQtgjRDjo/wtH/HXQOkfphbEJNlXl9638dJ47bTHoroTRuWjP9REQAMLhp3DS99wGs+aXKYa/I5E9x08weZfh7jP2EiedwEmSP42sNG5FFS6yl/Y6gQ9QBFcLFSW0LOoHIsmWwXCLtxHpovQUnTmaQWA/JdTgJdT8RkStmhWh+D0BigI67ALwSwPxZRp+mMMHwfmZeJdrF1MvMHtasFpF3tuP39TlkMVQIF6fzQzzv4JeCziESNCeJFcKO0LyTWB+dH8IO07wTO4YTCzqciMgKtTCuPt5DvAdg/a9UjhdnGX+GyRfIj1HOcWof+TGKkxprKoJxiPcFHaI+qBAuTvp6Wm5m5HtB5xBZSgbLwW2meSfdQ5TzNG2gdRdenlASYwcdT0Sk4YUStN/x5qC4wd+nOEVhnOwJ5k5z/tvMD1OcZOIg5bkgc4osvVU3khkMOkR9UCFcHGPou1+FUFYyYxNKEWnHK9F6M8kN9HwKO0q0HSty8Qpd0cBCiojIuzAXJiUmBgDWPAjg+8yfYeI5xp+jlGX8WaZ/RnEKr6DVTWUlSw/q5vUiqRAuWtsuLFf/dMoKYRzsKOFVZHbQeguJtURXk+gn3KbVmUVEVhRjiHUR66LrEwC+D1AYozjL+E8Y/TG5c0y9iFdk5nW8fLBhRarE0DMUdIa6oUK4aOnrSV3PxDNB5xC5CgZjk95Ocj1OnFU30PFBIu04MU22FhFpLAt3/cIthFtI9FcWOAV8n7mTnP1b5s9x/glmXiN3FsD3tGiN1J9wqzacWDwVwivRfqcKodQHO0aknVg3qS203ERyPbFuYt0aOyEiIu/MGOK9rPtHANf9HuU82WPYYWaOMPo0ubOcfJz8MJ72vZB6sPpjhBJBh6gbKoRXYuvvcuKrzB0POofI21iEmgg10fI+khtJbaZ1F7FuDf4UEZGrZIdp2ggQ76fjAwA7/gNzp8iNcPqvKE5jHI58kdJssDFF3onN1n8edIZ6okJ4JdxUZd1nkYBZuCkinaS20nITq+8m1qvxnyIiUkN2lOR6kutpvaVyZNNvMHeS0R8xP8zYD5g7TWGcUlZDTCVgsS5iPUGHqCeqN1fCWPTex8u/H3QOaTDGwjiE0jTvILGO1R8l3kNiHXZEzwBFRCQwiQESA7TdXnnp+xQnOfO35M4z/izzZxn5Hr6HX1JFlCXV8UGceNAh6okK4RVadWPQCaQBWGGsEFaYgUeIrabnXjBE27HcoJOJiIhcgjG4GfofePNI9jiWy9EvM/s6488y8ypeEa+AXw4upax4Fms/G3SGOqNCeIW6PkFqK1MvBZ1DVhib5HqMT+sumt9L54cINRFKYYWCDiYiInK14n0AW3678jI3grE59y2Gn2TyRWZfpzRHcTLAgLICxXtpfm/QIeqMCuEVshw67lYhlGtmEe8h1kPXx7FjtN1O0/q/t/+7iIjIChJpBei7n777AYrTzJ9h8qdkT3HuW4w+TXEKPLDACzap1LHm92KHgw5RZ1QIr9z6X+XwH1GaCTqH1BUrjBMn0sbqj5HaTPNOUlv1AFBERBrXwvrYTZsANv8m5XnGDwLkhnnpC+THyB5TM5QrY5zK1ilyJVQIr1zTOpLrmDgQdA5ZzgzGxknQtJHW99PxQTLbCTVpirOIiMg7s6O0XthJvOcevAITB/GKHPsTxp9l+mcUJ7U4jVxGrEv70V8FFcKrYFj9URVCeTtjE2oiMUDzjax6L10fw4doe9CxRERE6pDlVlbya70VoDDJ+AH8Auee4PzfMX2Ich6/FGxGWXa67iGUDDpE/VEhvCpdn+Clf6fbVIKTINJO8w2kNrH654j3E27VPEAREZEqc9N03AnQ+RGA3AjZY/gljn6Zs99k7hR2TOvTSOX2gVwhFcKrklxHuJX8cNA5ZMnZEZo2E+2m/Q7S22jeSahJUwFFRESWVKS1skRNy82U8xSnAUae4sRXGf0RxWkK47px33CiXay+O+gQdUmF8KqEV9HxQY5/JegcsgQsnDgtN9O8k/Y7Sa4n0R90JBEREbnADmO3AvTspmc3pTmM4fQ3mDrE2I8ZeZLiLPjqhyvfmgcJNQUdoi6pEF6t7ntUCFcogx0l0k7zTgY+Q7iN1BachAaCioiI1AEnBtD785WXuRGKU4z8gLEfc/4JSjPkzuEVAwwotZLZGXSCeqVCeLXaP0CkjZxGja4IVpjwKpo203IT7XfQtJlImwaCioiI1L2FwaXJdQx8BsD3mHqZw/+D+bPMnWbiOcrzQUeUarDCNO8IOkS9UiG8WpEWeh/g1f8SdA65WsYidR3dQyQGaHkfiQE1QBERkRXOWKS3sXNP5eXUy5zfT/Y4Z77BzBE8lcO6tfpukuuDDlGvVAivQf8v8eofaMvUerKwImh6K8kNtL6feB92OOhMIiIiEpDUFlJbAK7/t+TOMf0qufOc+Qan/gK/hFcIOp8sWvsHgk5Qx1QIr0FyHW6GwljQOeTSQmki7STX03ILTRtou62yKJmIiIjIG+ww8T7ifQBrfon5M5TzHP1jpg4x/gy585SyegawfMX6GPhs0CHqmArhNQhn6L2P1/9b0DnkYsahaSOZQdLX0/cA8d6gA4mIiEhdia4GuO5fAZRz4HPmbxl9mlP7mD2MXwo2nbxdvIdQIugQdUyF8Nr0PcDr/10LGQfNgCG5jt77SF9P0yaa1mNHg04lIiIi9c+OAPQM0TPE9s8ze4TZI5x/gvP7mXqBci7ofALd9wSdoL6pEF6b5DqcOKXZoHM0HiuMsVh1I+t+lcx2fJ/UFu0MISIiIjVkOTRtoGlDZQP07HEmDnL+O4z+hPmTzJ3WQ4IAWC499wUdor6pEF6bWBetuzj7zaBzNAY7SqSNzCCZ99L9SaKdhFtUAkVERCQYC9MOFx5PlfOMP8OJrzN9iJnXmDuJV9S0w6XQdgeJvqBD1DcVwmu2+Z9x9m90Q6hWjE2oidR1rP0sqz+GHSaUDDqTiIiIyMXsMK230norgF9m7gxzJ3nxC5TnGXkKvxh0vpWrdVfQCeqeCuE1W/U+Qk0Up4LOsYIYm3Ab6evo+hidHyHcipvGWEHHEhEREVkEYxPvId7Dnd/A98keZ3g/R/8Poz/UbhbVZtH98aAz1D0VwmvmxOm6h2NfCjpHnbPChJKkttK6i/5P07QBYwedSUREROTaGEOin8TDDDxMcZbceU58jTN/zfxZZo9oTOm1at5JamvQIeqeCuE1M6aypalcMUOkjWg3ax6k88Mk1lYW8hIRERFZeUIJQgm2/g5bf4dynuwxRn/Iqb9g/FnmT+OXg85Xhzo/jBUKOkTdUyGshnX/kFf+E/nRoHPUBQs3Tbyf3vvouIvEOsKZoCOJiIiILC07TNNGmjay5iG8AlOHmHiOY3/CxHMUJrQ4xaJYLj33Bh1iJVAhrIZwC+ntnP+7oHMsY1aEeC+rP0rf/TRtxk0FHUhERERkGTAGO0zzIM2DDDxEKcvEAU7/Nae/wezreAWVw0vqf5DmHUGHWAlUCKtkzWc4/x39jb2IFSbWRdcn6fwI6W1E2rDcoDOJiIiILFcLi6u33U7b7Wz/PNkTlGaYfJnX/pDJF7Tx9dtp9mCVqBBWSfcQbprCRNA5AmcR7aR5Jz2fovX9JNcGnUdERESkDlmhyueozCD9D1Cc5tiX8fKMfJ8z36Q8H3S+oBmbttuDDrFCqBBWSShJ6jpGngw6RxDsKHaE9CADD5PZTnIdTjzoTCIiIiIrhbFw02z4dYBNv8X0K5x7grFnyB5j5LsNuhpN0yYy24MOsUKoEFaJMWz/PN++vVFGjVoRkmuxXDruons3me3YUW0VKCIiIlJzTZto2gTg+4w8yeiPOPE1pl6inGuUD6JA95DWF60WFcLqSazFiVHKBp2jloxD5j2s/gg9nyIzGHQaERERkQZmTGXC4ebPkR9h6iUO/y9Gvk/uPOUV/YkUQ8eHg86wcqgQVk9sNclNTDwbdI6qswivovd+mneQGKD1Vt2PEREREVlGjCHSRqSN9jvxfaYPMfUS489y/Ktkj63Ax4axXlpuDDrEyqFCWFU9QyunEFoRUlvpu4+OD5Pox9VugSIiIiLLnjGktpDaQu99XPdvGH+Gk48z+jSTz1PKrpByuPYR7EjQIVYOFcKq6vkUL34eLx90jqtlhYn1kNlO8w303U9stTaKEBEREalXdpjWW2m9Fd8jP8rwdzm5j7PfpDAFXtDhrlbowvo6UiUqhFWV2kLTRiZfCDrHFbGwQmS203Mvze+h5WatESoiIiKyohiLSBu999F7H/lRsicZfpKzf8PYTyiMBR3uCkXacJuDDrGiqBBWW/fuOimEhvga2nbR/4sk1xNfgzFBRxIRERGRGgu3EG6heQeb/im5EY7/CdnjnP5LZo/il4IOtwh9D2hl++pSIay2rk/w0heW718nK0zrrfQ9QGKAttu0PIyIiIhI44q0svE3AN7znzn/BNmTHPsKEwfIDwed7NIyO4JOsNKoEFZb8w7a7+Tct4LO8RbGItxG2x203ETHXaS3BR1IRERERJaZ9jsBBj7D7BFGn+bEnzF9iLlTlGaCTvYW8TV03Bl0iJVGhbDajEXHh5ZHIbRIb6P/M7TfRnIDbiroPCIiIiKy7CUGSAzQ/2mAqUOc/DrjzzHyPfIjQSeD3vsI6TNtlakQ1kDvL/DTf015Ppir23Fad9H38zTfQNN67GgwMURERESk3qU2k/oXAMVZTnyNY19m8kUKY8FMjzIOffcHcN2VToWwBiJtpLYx/pOlu6JxcNO07qL3Xlp3EevWXFsRERERqZpQgrWPsPYRitNMHOTw/+T0X+IVKc0u3d6GoSTJdUt0rUaiQlgDTpSW9y1FIbRckutY8xBtd5DZjh2u+RVFREREpJGFmmi7jbbbKM3hFRh/plIOS7M1v3T3EKGmml+l8agQ1kbn3bz6h7W6X+I2k3kP636Z5AbS12HpD1FERERElpYTgxgdH6TjLubPcuRLjD/HuW9TnKjJ5ewoW3+vJmdueOoStdF2O02bmD5UtRMam6YttN9J2y5abiLWXbUzi4iIiIhcPUN0NVt/B9+nMMb0q4x8n6N7mTtDcbJqF4m0E++p2tnkLVQIayOUoHuIl6+5EFph3GY2/Bptt9FyK5ZdjXAiIiIiItVmDOEWWltovYUtnyN7ghc/z+gPmX6lCovQpK/XsLga0W9rzXTv5tB/vMrvfjdDYg0dH2bNPyAxgB2pdjgRERERkVqK9/K+P8L3mTvJ63/EyPcZf4ZS9qomVRl6f6H6CQVQIayh1EbifcwevoIvibSTWE/vvaz9rKbMioiIiEjdM4Z4L9s/j18mP8bojzj5Z5x8nNIseIs9iZNg9d21TNnQVAhrJtTE2l/m+d+93PssnCirbqL7Htb+Mo62DRQRERGRFcfYRNro/gRdH2fnHs7v5/AXGXmS4szlnxm2347bvCQpG5EKYS29204phuR6Ou5i/a/jpol1LV0qEREREZGgGIObpmeI7nsoTnP6r5g7wZG9zLx2yWbY92mMWdqUDUSFsJa6PklqK1MvveWQRaSN9g+w8Z/QtAk3HVg2EREREZEAGYObYs2DAJs/x7lvcXIfw/uZefWityU30PXxQAI2COP7tdkr7y0OHjy4Z8+e/v7+Wl9oOTrxVaYurDVqHDruIrWVUDLQTCIiIiIiy5JfZvi7ZI+TPVl5YJhcR/+DQccKwLFjxx599NHBwcFaX2gpCmFDmz3K8f9Lx12ktuHEgk4jIiIiIlIPfI/RH1KYoOVmwquCTrOSqRCKiIiIiIg0KCvoACIiIiIiIhIMFUIREREREZEGpUIoIiIiIiLSoFQIRUREREREGpQKoYiIiIiISINSIRQREREREWlQKoQiIiIiIiINSoVQRERERESkQakQioiIiIiINCgn6AANwRgTdAQRERERkTrj+37QEVY+FcKl8tzzQScQqZrJjm8FHUGkalJP/HbQEUSqZvCr9wQdQaRqnv/zPw86QkPQkFEREREREZEGpUIoIiIiIiLSoFQIRUREREREGpQKoYiIiIiISINSIRQREREREWlQKoQiIiIiIiINSoVQRERERESkQakQioiIiIiINCgVQhERERERkQZlfN8POsPKZ4wJOoKIiIiISJ1RVVkCTtABGoW+m0VEREREFk/PVJaGhoyKiIiIiIg0KBVCERERERGRBqVCKCIiIiIi0qC0qIyIiIiIiEiD0hNCERERERGRBqVCKCIiIiIi0qBUCEVERERERBqUCmFt7du3b2hoaGhoaO/evUFnERERERGpA3v37tVH6CWjQlhDe/bs2b17dzqd7u/vf/TRRx999NGgE4mIiIiILGuPPfbYI4880t/fPzg4+Oijj95xxx1BJ1rhtMpoDfX39w8NDe3ZswfYu3fvI488MjExkU6ng84lIiIiIrJMpdPphx9+eOEj9L59+3bv3n3gwIHBwcGgc61YTtABVqyDBw8eP358aGho4eXCvY2DBw/qJoeIiIiIyKXs27evv79/4cd6lLIEVAhrZXJy8q0vF76t33ZQRERERETe6o3HJ/v27XvsscceeughPR6sKc0hXFIHDx4MOoKIiIiIyHJnjNm9ezegdWVqTYVwSb3x+FtERERERC7lwIEDjz/+ODA4OKhBdjWlQlgrbxvxvPB9rEIoIiIiInJZg4ODQ0ND+/bte/755/ft2xd0nJVMhbBWBgcHU6nUG2NE9+/fjwqhiIiIiMilLSzB+MZHaC3DsQRUCGtoYc+JY8eOTU5OPvbYY7fffrsKoYiIiIjIpfT39x88ePCxxx5bKIEPP/ww8Ma6/VILKoQ1tGfPnv7+/jVr1mQymcnJyYXdVERERERE5B2l0+m9e/fu378/k8kYY/bv3//444/rmUpNaWP6mlt4QqjVckVEREREFmlh1Kg+Qi8BFUIREREREZEGpSGjIiIiIiIiDUqFUEREREREpEGpEIqIiIiIiDQoFUIREREREZEGpUIoIiIiIiLSoFQIRUREREREGtT/B3uxirTFMtvOAAAAAElFTkSuQmCC'>"
      ],
      "text/plain": [
       "<IPython.core.display.HTML object>"
      ]
     },
     "metadata": {},
     "output_type": "display_data"
    }
   ],
   "source": [
    "figP.show()"
   ]
  },
  {
   "cell_type": "code",
   "execution_count": 20,
   "metadata": {},
   "outputs": [],
   "source": [
    "upperSurf = mesh.specialSets[\"upper_surface_VertexSet\"]\n",
    "lowerSurf = mesh.specialSets[\"lower_surface_VertexSet\"]\n",
    "rightSide = mesh.specialSets[\"MinJ_VertexSet\"]\n",
    "leftSide = mesh.specialSets[\"MaxJ_VertexSet\"]\n",
    "cEdge = (\n",
    "    (upperSurf & rightSide)\n",
    "    + (upperSurf & leftSide)\n",
    "    + (lowerSurf & rightSide)\n",
    "    + (lowerSurf & leftSide)\n",
    ")\n",
    "\n",
    "\n",
    "def setVbc():\n",
    "    velocityField.data[...] = 0.0\n",
    "    velocityField.data[upperSurf.data, :] = (0.0, 0.0)\n",
    "    velocityField.data[lowerSurf.data, :] = (0.0, 0.0)\n",
    "    velocityField.data[leftSide.data, :] = (0.0, 0.0)\n",
    "    velocityField.data[rightSide.data, :] = (0.0, 0.0)\n",
    "\n",
    "\n",
    "setVbc()"
   ]
  },
  {
   "cell_type": "code",
   "execution_count": 21,
   "metadata": {},
   "outputs": [],
   "source": [
    "freeSlipAn = uw.conditions.RotatedDirichletCondition(\n",
    "    variable=velocityField,\n",
    "    indexSetsPerDof=(upperSurf + lowerSurf, rightSide + leftSide + cEdge),\n",
    "    basis_vectors=(mesh.bnd_vec_normal, mesh.bnd_vec_tangent),\n",
    ")\n"
   ]
  },
  {
   "cell_type": "code",
   "execution_count": 22,
   "metadata": {},
   "outputs": [],
   "source": [
    "figVdot = glucifer.Figure(store=store, figsize=(1200, 450))\n",
    "figVdot.append(\n",
    "    glucifer.objects.Surface(\n",
    "        mesh,\n",
    "        fn.math.dot(velocityField, velocityField),\n",
    "        # logScale=True,\n",
    "        colours=glucifer.lavavu.matplotlib_colourmap(\"viridis\"),\n",
    "    )\n",
    ")\n",
    "if restartFlag is False:\n",
    "    figVdot.save(outputDir + \"/Vdot\" + str(step).zfill(5))"
   ]
  },
  {
   "cell_type": "code",
   "execution_count": 23,
   "metadata": {},
   "outputs": [
    {
     "data": {
      "text/html": [
       "<img src='data:image/png;base64,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'>"
      ],
      "text/plain": [
       "<IPython.core.display.HTML object>"
      ]
     },
     "metadata": {},
     "output_type": "display_data"
    }
   ],
   "source": [
    "# figVdot.show()"
   ]
  },
  {
   "cell_type": "code",
   "execution_count": 24,
   "metadata": {},
   "outputs": [],
   "source": [
    "airDensity = 0.0\n",
    "mantleDensity = 0.000  # sh*t went crazy again\n",
    "slabDensity = 1.00\n",
    "densityMap = {0: airDensity, 1: mantleDensity, 2: mantleDensity, 3: slabDensity}\n",
    "densityFn = fn.branching.map(fn_key=materialVariable, mapping=densityMap)\n",
    "buoyancyFn = -1.0 * densityFn * mesh.unitvec_r_Fn"
   ]
  },
  {
   "cell_type": "code",
   "execution_count": 27,
   "metadata": {},
   "outputs": [],
   "source": [
    "figD = glucifer.Figure(store=store, figsize=(1200, 450))\n",
    "figD.append(glucifer.objects.Points(swarm, densityFn, colours=\"spectral\", pointsize=2))\n",
    "if restartFlag is False:\n",
    "    figD.save(outputDir + \"/Den\")\n",
    "\n",
    "figbuoyancy = glucifer.Figure(figsize=(1200, 450), name=\"Buoyancy Map\")\n",
    "figbuoyancy.Points(\n",
    "    swarm,\n",
    "    densityFn,\n",
    "    pointsize=3,\n",
    "    colours=\"(0.000)white (0.001)AntiqueWhite   (1.001)Gold\"\n",
    "    # colours=list(glucifer.lavavu.matplotlib_colourmap(\"Accent\")),\n",
    ")\n",
    "if restartFlag is False:\n",
    "    figbuoyancy.save(outputDir + \"/BfnDot\")"
   ]
  },
  {
   "cell_type": "code",
   "execution_count": 28,
   "metadata": {},
   "outputs": [
    {
     "data": {
      "text/html": [
       "<img src='data:image/png;base64,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'>"
      ],
      "text/plain": [
       "<IPython.core.display.HTML object>"
      ]
     },
     "metadata": {},
     "output_type": "display_data"
    }
   ],
   "source": [
    "figbuoyancy.show()"
   ]
  },
  {
   "cell_type": "code",
   "execution_count": 31,
   "metadata": {},
   "outputs": [],
   "source": [
    "airViscosity = 0.01  # This is Lekker!\n",
    "mantleViscosity = 1.0\n",
    "lowermantleViscosity = 1e2\n",
    "slabViscosity = 5e2\n",
    "viscosityMap = {\n",
    "    0: airViscosity,\n",
    "    1: mantleViscosity,\n",
    "    2: lowermantleViscosity,\n",
    "    3: slabViscosity,\n",
    "}\n",
    "swarmviscosityFn = fn.branching.map(fn_key=materialVariable, mapping=viscosityMap)\n",
    "projVisMesh = uw.utils.MeshVariable_Projection(viscosityField, swarmviscosityFn, type=0)\n",
    "projVisMesh.solve()"
   ]
  },
  {
   "cell_type": "code",
   "execution_count": 32,
   "metadata": {},
   "outputs": [],
   "source": [
    "figV = glucifer.Figure(store=store, figsize=(1200, 450))\n",
    "figV.append(\n",
    "    glucifer.objects.Surface(\n",
    "        mesh,\n",
    "        viscosityField,\n",
    "        logScale=True,\n",
    "        colours=glucifer.lavavu.matplotlib_colourmap(\"inferno_r\"),\n",
    "    )\n",
    ")\n",
    "if restartFlag is False:\n",
    "    figV.save(outputDir + \"/eta\" + str(step).zfill(5))"
   ]
  },
  {
   "cell_type": "code",
   "execution_count": 33,
   "metadata": {},
   "outputs": [
    {
     "data": {
      "text/html": [
       "<img src='data:image/png;base64,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'>"
      ],
      "text/plain": [
       "<IPython.core.display.HTML object>"
      ]
     },
     "metadata": {},
     "output_type": "display_data"
    }
   ],
   "source": [
    "figV.show()"
   ]
  },
  {
   "cell_type": "code",
   "execution_count": 34,
   "metadata": {},
   "outputs": [
    {
     "name": "stdout",
     "output_type": "stream",
     "text": [
      "Saving Mesh.....\n",
      "Saving Swarm.....\n",
      "Done.....\n"
     ]
    }
   ],
   "source": [
    "uw.mpi.barrier()\n",
    "if restartFlag is False:\n",
    "    checkpoint(\n",
    "        mesh,\n",
    "        fieldDict,\n",
    "        swarm,\n",
    "        swarmDict,\n",
    "        index=step,\n",
    "        modeltime=dm(time, 1.0 * u.megayear).magnitude,\n",
    "        prefix=outputDir,\n",
    "    )\n"
   ]
  },
  {
   "cell_type": "code",
   "execution_count": 35,
   "metadata": {},
   "outputs": [],
   "source": [
    "stokesSLE = uw.systems.Stokes(\n",
    "    velocityField,\n",
    "    pressureField,\n",
    "    fn_viscosity=viscosityField,\n",
    "    fn_bodyforce=buoyancyFn,\n",
    "    conditions=freeSlipAn,\n",
    "    _removeBCs=False,\n",
    ")\n",
    "\n",
    "\n",
    "stokesSolverAN = uw.systems.Solver(stokesSLE)\n",
    "\n",
    "# stokesSolverAN.set_inner_method = \"mumps\"\n",
    "stokesSolverAN.options.A11.ksp_type = \"fgmres\"\n",
    "stokesSolverAN.options.scr.ksp_rtol = 1.0e-4\n",
    "stokesSolverAN.options.scr.ksp_max_it = 100\n",
    "# stokesSolverAN.options.scr.ksp_monitor = \"ascii\"\n",
    "stokesSolverAN.options.scr.ksp_type = \"fgmres\"\n",
    "stokesSolverAN.options.A11.ksp_rtol = 1.0e-5\n",
    "# stokesSolverAN.options.A11.ksp_monitor = \"ascii\"\n",
    "\n",
    "stokesSolverAN.set_penalty(100.0)\n",
    "stokesSolverAN.options.main.restore_K = True\n",
    "stokesSolverAN.options.main.force_correction = True\n",
    "stokesSolverAN.options.main.Q22_pc_type = \"gkgdiag\"\n",
    "\n",
    "stokesSolverAN.options.mg_accel.mg_accelerating_smoothing = True\n",
    "stokesSolverAN.options.mg_accel.mg_smooths_to_start = 3\n",
    "stokesSolverAN.options.mg_accel.mg_smooths_max = 10\n",
    "stokesSolverAN.options.mg.mg_levels_ksp_convergence_test = \"skip\"\n",
    "stokesSolverAN.options.mg.mg_levels_ksp_norm_type = \"none\"\n",
    "stokesSolverAN.options.mg.mg_levels_ksp_max_it = 5\n",
    "stokesSolverAN.options.mg.mg_levels_ksp_type = \"chebyshev\"\n",
    "stokesSolverAN.options.mg.mg_coarse_pc_type = \"lu\"\n",
    "stokesSolverAN.options.mg.mg_coarse_pc_factor_mat_solver_package = \"mumps\"\n",
    "\n",
    "\n",
    "# stokesSolverAN.solve(print_stats=True, reinitialise=True)"
   ]
  },
  {
   "cell_type": "code",
   "execution_count": 36,
   "metadata": {},
   "outputs": [],
   "source": [
    "def smooth_pressure():\n",
    "    if uw.mpi.rank == 0:\n",
    "        print(\"Smoothing Pressure...\")\n",
    "        sys.stdout.flush()\n",
    "\n",
    "    Cell2Nodes.solve()\n",
    "    Nodes2Cell.solve()\n",
    "\n",
    "\n",
    "def pressure_calibrate():\n",
    "    if uw.mpi.rank == 0:\n",
    "        print(\"Calibration and Smoothing of PressureField... \")\n",
    "    (area,) = surfaceArea.evaluate()\n",
    "    (p0,) = surfacePressureIntegral.evaluate()\n",
    "    offset = p0 / area\n",
    "    if uw.mpi.rank == 0:\n",
    "        print(\"Zeroing pressure using mean upper surface pressure {}\".format(offset))\n",
    "    pressureField.data[:] -= offset\n",
    "    smooth_pressure()\n",
    "    if uw.mpi.rank == 0:\n",
    "        print(\"Calibration and Smoothing of PressureField... Done\")\n",
    "    sys.stdout.flush()\n",
    "\n",
    "\n",
    "def postSolve():\n",
    "    # pressure_calibrate()\n",
    "    # realign solution\n",
    "    uw.libUnderworld.Underworld.AXequalsX(\n",
    "        stokesSLE._rot._cself, stokesSLE._velocitySol._cself, False\n",
    "    )\n",
    "    # remove null space\n",
    "    uw.libUnderworld.StgFEM.SolutionVector_RemoveVectorSpace(\n",
    "        stokesSLE._velocitySol._cself, stokesSLE._vnsVec._cself\n",
    "    )"
   ]
  },
  {
   "cell_type": "code",
   "execution_count": null,
   "metadata": {},
   "outputs": [],
   "source": [
    "while step < maxSteps:\n",
    "    setVbc()  # seems important\n",
    "    stokesSolverAN.solve(callback_post_solve=postSolve)\n",
    "    # uw.libUnderworld.Underworld.AXequalsX(\n",
    "    #     stokesSLE._rot._cself, stokesSLE._velocitySol._cself, False\n",
    "    # )\n",
    "    dt = advector.get_max_dt()\n",
    "    advector.integrate(dt)\n",
    "    swarm_popcontrol.repopulate()\n",
    "    step += 1\n",
    "    time += dt\n",
    "    projVisMesh.solve()\n",
    "    if step % 5 == 0 or step == 1 or step == 2:\n",
    "        if store is not None:\n",
    "            store.step = step\n",
    "        figV.save(outputDir + \"/eta\" + str(step).zfill(5))\n",
    "        figVdot.save(outputDir + \"/Vdot\" + str(step).zfill(5))\n",
    "    if step % 10 == 0 or step == 1 or step == 2:\n",
    "        checkpoint(\n",
    "            mesh,\n",
    "            fieldDict,\n",
    "            swarm,\n",
    "            swarmDict,\n",
    "            index=step,\n",
    "            modeltime=dm(time, 1.0 * u.megayear).magnitude,\n",
    "            prefix=outputDir,\n",
    "        )\n",
    "\n",
    "if tflag:\n",
    "    uw.timing.print_table(\n",
    "        output_file=outputDir + \"/uwTimer.log\", display_fraction=0.999\n",
    "    )"
   ]
  },
  {
   "cell_type": "code",
   "execution_count": null,
   "metadata": {},
   "outputs": [],
   "source": [
    "figV.show()"
   ]
  },
  {
   "cell_type": "code",
   "execution_count": null,
   "metadata": {},
   "outputs": [],
   "source": [
    "figVdot.show()"
   ]
  }
 ],
 "metadata": {
  "kernelspec": {
   "display_name": "Python 3",
   "language": "python",
   "name": "python3"
  },
  "language_info": {
   "codemirror_mode": {
    "name": "ipython",
    "version": 3
   },
   "file_extension": ".py",
   "mimetype": "text/x-python",
   "name": "python",
   "nbconvert_exporter": "python",
   "pygments_lexer": "ipython3",
   "version": "3.5.3"
  }
 },
 "nbformat": 4,
 "nbformat_minor": 2
}
